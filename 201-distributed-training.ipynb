{
 "cells": [
  {
   "cell_type": "markdown",
   "metadata": {},
   "source": [
    "# End to end experiment: EfficientNet Image Classification\n",
    "\n",
    "In this notebook, we will show how to:\n",
    "\n",
    "* Interactively define a KubeFlow Pipeline using the Pipelines Python SDK\n",
    "* Implement transfer learning with EfficientNet in Keras\n",
    "* Submit and run the pipeline\n",
    "* Add a step in the pipeline\n",
    "\n",
    "This example pipeline trains a [EfficientNet](https://github.com/SemanticMD/efficientnet_keras_transfer_learning) model on medical X-ray image data, learning to classify new object categories. It then exports the trained model and deploys the exported model to [Seldon Core](https://github.com/SeldonIO/seldon-core). \n",
    "The final step in the pipeline launches a web app which interacts with the EfficientNet model via REST API in order to get model predictions."
   ]
  },
  {
   "cell_type": "markdown",
   "metadata": {},
   "source": [
    "## Enviroinment Setup\n",
    "\n",
    "Before any experiment can be conducted. We need to setup and initialize an environment: ensure all Python modules has been setup and configured, as well as python modules\n",
    "\n",
    "### Imports\n",
    "Setting up python modules"
   ]
  },
  {
   "cell_type": "code",
   "execution_count": 102,
   "metadata": {
    "ExecuteTime": {
     "end_time": "2020-03-03T18:34:39.370955Z",
     "start_time": "2020-03-03T18:34:39.099470Z"
    },
    "scrolled": true
   },
   "outputs": [
    {
     "data": {
      "text/markdown": [
       "Loading notebook variables from configmap: `kubeflow/efficientnet1-nb-vars`"
      ],
      "text/plain": [
       "<IPython.core.display.Markdown object>"
      ]
     },
     "metadata": {},
     "output_type": "display_data"
    },
    {
     "data": {
      "text/markdown": [
       "All notebook variables has been already loaded"
      ],
      "text/plain": [
       "<IPython.core.display.Markdown object>"
      ]
     },
     "metadata": {},
     "output_type": "display_data"
    }
   ],
   "source": [
    "%reload_ext autoreload\n",
    "%autoreload 2\n",
    "\n",
    "%reload_ext nbextensions\n",
    "%load_nbvars\n",
    "\n",
    "import kfp.dsl as dsl\n",
    "import kfp.gcp as gcp\n",
    "import pandas as pd\n",
    "from ipython_secrets import get_secret\n",
    "from kfp.compiler import Compiler\n",
    "from kfp.components import load_component_from_file\n",
    "from os import environ\n",
    "import boto3, kfp\n",
    "\n",
    "from nbextensions.pv import use_pvc\n",
    "from nbextensions.kubernetes import dockerjson_pv\n",
    "from nbextensions.aws import upload_to_s3\n",
    "\n",
    "import nbextensions.utils as utils\n",
    "from datetime import datetime\n",
    "from urllib.parse import urlparse\n",
    "\n",
    "import warnings\n",
    "warnings.filterwarnings('ignore')"
   ]
  },
  {
   "cell_type": "code",
   "execution_count": 115,
   "metadata": {
    "ExecuteTime": {
     "end_time": "2020-03-03T18:56:46.947197Z",
     "start_time": "2020-03-03T18:56:44.115403Z"
    }
   },
   "outputs": [
    {
     "name": "stdout",
     "output_type": "stream",
     "text": [
      "Requirement already satisfied: pixiedust in /opt/conda/lib/python3.6/site-packages (1.1.18)\n",
      "Requirement already satisfied: requests in /opt/conda/lib/python3.6/site-packages (from pixiedust) (2.21.0)\n",
      "Requirement already satisfied: markdown in /opt/conda/lib/python3.6/site-packages (from pixiedust) (3.1)\n",
      "Requirement already satisfied: astunparse in /opt/conda/lib/python3.6/site-packages (from pixiedust) (1.6.3)\n",
      "Requirement already satisfied: geojson in /opt/conda/lib/python3.6/site-packages (from pixiedust) (2.5.0)\n",
      "Requirement already satisfied: colour in /opt/conda/lib/python3.6/site-packages (from pixiedust) (0.1.5)\n",
      "Requirement already satisfied: mpld3 in /opt/conda/lib/python3.6/site-packages (from pixiedust) (0.3)\n",
      "Requirement already satisfied: lxml in /opt/conda/lib/python3.6/site-packages (from pixiedust) (4.4.2)\n",
      "Requirement already satisfied: idna<2.9,>=2.5 in /opt/conda/lib/python3.6/site-packages (from requests->pixiedust) (2.8)\n",
      "Requirement already satisfied: chardet<3.1.0,>=3.0.2 in /opt/conda/lib/python3.6/site-packages (from requests->pixiedust) (3.0.4)\n",
      "Requirement already satisfied: certifi>=2017.4.17 in /opt/conda/lib/python3.6/site-packages (from requests->pixiedust) (2019.3.9)\n",
      "Requirement already satisfied: urllib3<1.25,>=1.21.1 in /opt/conda/lib/python3.6/site-packages (from requests->pixiedust) (1.24.1)\n",
      "Requirement already satisfied: setuptools>=36 in /opt/conda/lib/python3.6/site-packages (from markdown->pixiedust) (40.9.0)\n",
      "Requirement already satisfied: six<2.0,>=1.6.1 in /opt/conda/lib/python3.6/site-packages (from astunparse->pixiedust) (1.12.0)\n",
      "Requirement already satisfied: wheel<1.0,>=0.23.0 in /opt/conda/lib/python3.6/site-packages (from astunparse->pixiedust) (0.33.1)\n",
      "\u001b[33mWARNING: You are using pip version 19.3.1; however, version 20.0.2 is available.\n",
      "You should consider upgrading via the 'pip install --upgrade pip' command.\u001b[0m\n"
     ]
    }
   ],
   "source": [
    "!pip install pixiedust"
   ]
  },
  {
   "cell_type": "code",
   "execution_count": 116,
   "metadata": {
    "ExecuteTime": {
     "end_time": "2020-03-03T18:57:27.654964Z",
     "start_time": "2020-03-03T18:57:26.624347Z"
    }
   },
   "outputs": [
    {
     "name": "stdout",
     "output_type": "stream",
     "text": [
      "Pixiedust database opened successfully\n"
     ]
    },
    {
     "data": {
      "text/html": [
       "\n",
       "        <div style=\"margin:10px\">\n",
       "            <a href=\"https://github.com/ibm-watson-data-lab/pixiedust\" target=\"_new\">\n",
       "                <img src=\"https://github.com/ibm-watson-data-lab/pixiedust/raw/master/docs/_static/pd_icon32.png\" style=\"float:left;margin-right:10px\"/>\n",
       "            </a>\n",
       "            <span>Pixiedust version 1.1.18</span>\n",
       "        </div>\n",
       "        "
      ],
      "text/plain": [
       "<IPython.core.display.HTML object>"
      ]
     },
     "metadata": {},
     "output_type": "display_data"
    }
   ],
   "source": [
    "import pixiedust"
   ]
  },
  {
   "cell_type": "markdown",
   "metadata": {},
   "source": [
    "### Define global variables\n",
    "\n",
    "Initialize global namespace variables. It is a good practice to place all global namespace variables in one cell. So, the notebook could be configured all-at-once. \n",
    "\n",
    "To enhance readability we would advice to capitalize such variables.\n",
    "\n",
    "NOTE: Use TAG variable to force a rebuild of container images, as a workaround for caching issues."
   ]
  },
  {
   "cell_type": "code",
   "execution_count": 332,
   "metadata": {
    "ExecuteTime": {
     "end_time": "2020-03-04T05:31:05.750061Z",
     "start_time": "2020-03-04T05:31:05.529442Z"
    },
    "code_folding": [],
    "run_control": {
     "marked": true
    }
   },
   "outputs": [],
   "source": [
    "USER = environ.get('NB_USER', 'John Doe')\n",
    "# TAG = 'latest'\n",
    "TAG = 'v24'\n",
    "\n",
    "BUILD_CONTEXT = f\"{TAG}/buildcontext\"\n",
    "TRAINING_IMAGE = f\"{DOCKER_REGISTRY}/training:{TAG}\"\n",
    "SERVING_IMAGE = f\"{DOCKER_REGISTRY}/seldon:{TAG}\"\n",
    "FLASK_APP_IMAGE = f\"{DOCKER_REGISTRY}/flask:{TAG}\"\n",
    "TRAINING_ROOT = f\"{MOUNT_PATH}/{TAG}/training\"\n",
    "\n",
    "s3 = boto3.session.Session().client('s3', endpoint_url=BUCKET_ENDPOINT)\n",
    "\n",
    "client = kfp.Client()\n",
    "try:\n",
    "    exp = client.get_experiment(experiment_name=APPLICATION_NAME)\n",
    "except:\n",
    "    exp = client.create_experiment(APPLICATION_NAME)"
   ]
  },
  {
   "cell_type": "markdown",
   "metadata": {},
   "source": [
    "### Define variables for experiment\n",
    "In the beginning of the scrip we define all necessary variables. We have a single cell to define all experiment configuration in one place."
   ]
  },
  {
   "cell_type": "code",
   "execution_count": 333,
   "metadata": {
    "ExecuteTime": {
     "end_time": "2020-03-04T05:31:07.700711Z",
     "start_time": "2020-03-04T05:31:07.529862Z"
    }
   },
   "outputs": [],
   "source": [
    "from sklearn.model_selection import train_test_split\n",
    "from tensorflow.keras.preprocessing.image import ImageDataGenerator\n",
    "from tensorflow.keras import models, layers, optimizers\n",
    "from tensorflow.keras.utils import get_custom_objects\n",
    "from tensorflow.keras.models import load_model\n",
    "from tensorflow.keras.callbacks import TensorBoard\n",
    "\n",
    "#from minio import Minio\n",
    "#from minio.error import ResponseError\n",
    "\n",
    "# Options: EfficientNetB0, EfficientNetB1, EfficientNetB2, EfficientNetB3\n",
    "# Higher the number, the more complex the model is.\n",
    "from efficientnet import EfficientNetB0 as Net\n",
    "from efficientnet import center_crop_and_resize, preprocess_input\n",
    "from efficientnet.layers import Swish, DropConnect\n",
    "from efficientnet.model import ConvKernalInitializer"
   ]
  },
  {
   "cell_type": "code",
   "execution_count": 334,
   "metadata": {
    "ExecuteTime": {
     "end_time": "2020-03-04T05:31:08.361486Z",
     "start_time": "2020-03-04T05:31:08.204172Z"
    }
   },
   "outputs": [],
   "source": [
    "## Globals\n",
    "REMOTE_MINIO_SERVER = get_secret('REMOTE_MINIO_SERVER')\n",
    "ACCESS_KEY = get_secret('ACCESS_KEY')\n",
    "SECRET_KEY = get_secret('SECRET_KEY')\n",
    "\n",
    "BASEDIR = f\"{ARTIFACTS_ROOT}/santosh-test\"\n",
    "DATASET_DIR = os.path.join(BASEDIR, 'datasets')\n",
    "\n",
    "FILETYPES = ('*.jpg', '*.jpeg', '*.png')\n",
    "MODEL_VERSION='1'\n",
    "MODEL_FNAME='pneumothorax_'  + datetime.now().strftime(\"%m_%d_%S\") + '.h5'\n",
    "DATASET_NAME='normal_pneumothorax'\n",
    "LABELS='normal,pneumothorax'"
   ]
  },
  {
   "cell_type": "code",
   "execution_count": 335,
   "metadata": {
    "ExecuteTime": {
     "end_time": "2020-03-04T05:31:09.436159Z",
     "start_time": "2020-03-04T05:31:09.271632Z"
    },
    "pixiedust": {
     "displayParams": {}
    }
   },
   "outputs": [
    {
     "name": "stdout",
     "output_type": "stream",
     "text": [
      "aws key_id:admin secret: Minio12345\n",
      "ext key_id:admin secret: deeplearning\n"
     ]
    }
   ],
   "source": [
    "#%%pixie_debugger\n",
    "aws_access_key_id=get_secret('aws_access_key_id')\n",
    "aws_secret_access_key=get_secret('aws_secret_access_key')\n",
    "print (f\"aws key_id:{aws_access_key_id} secret: {aws_secret_access_key}\")\n",
    "ext_access_key_id=get_secret('ext_access_key_id')\n",
    "ext_secret_access_key=get_secret('ext_secret_access_key')\n",
    "print (f\"ext key_id:{ext_access_key_id} secret: {ext_secret_access_key}\")\n",
    "\n"
   ]
  },
  {
   "cell_type": "code",
   "execution_count": 336,
   "metadata": {
    "ExecuteTime": {
     "end_time": "2020-03-04T05:31:11.774872Z",
     "start_time": "2020-03-04T05:31:11.620736Z"
    }
   },
   "outputs": [],
   "source": [
    "ARTIFACTS_ROOT = f\"{MOUNT_PATH}\"\n",
    "TEST_IMAGE_FILE = f\"{ARTIFACTS_ROOT}/panda.jpg\"\n",
    "MODEL_FILE = f\"{MOUNT_PATH}/models/{MODEL_VERSION}/{MODEL_FNAME}\"\n",
    "MODEL_DIR = f\"{MOUNT_PATH}/models/\""
   ]
  },
  {
   "cell_type": "code",
   "execution_count": 340,
   "metadata": {
    "ExecuteTime": {
     "end_time": "2020-03-04T05:34:47.006225Z",
     "start_time": "2020-03-04T05:34:46.860640Z"
    }
   },
   "outputs": [
    {
     "name": "stdout",
     "output_type": "stream",
     "text": [
      "Local dataset: /mnt/s3/santosh-test/datasets\n",
      "Remote dataset: REMOTE_MINIO_SERVER 206.189.86.150:32782\n",
      "Test image: /mnt/s3/panda.jpg\n",
      "Model file: /mnt/s3/models/1/pneumothorax_03_04_08.h5\n"
     ]
    }
   ],
   "source": [
    "print (f\"Local dataset: {DATASET_DIR}\")\n",
    "print (f\"Remote dataset: REMOTE_MINIO_SERVER {REMOTE_MINIO_SERVER}\")\n",
    "print (f\"Test image: {TEST_IMAGE_FILE}\")\n",
    "print (f\"Model file: {MODEL_FILE}\")"
   ]
  },
  {
   "cell_type": "markdown",
   "metadata": {},
   "source": [
    "### Define build docker image pipeline\n",
    "\n",
    "Define build pipeline. Yes, we arguably using KFP to build images  that will be de-facto used by final pipeline.\n",
    "\n",
    "We use [Kaniko](https://github.com/GoogleContainerTools/kaniko) and Kubernetes to handle build operations. Build status can be tracked via KFP pipeline dashboard\n",
    "\n",
    "In fact build image job can be even combined with primary pipeline as physically it will be different Kubernetes pods. However for sake of general purpose efficiency we schedule build process via separate pipeline step"
   ]
  },
  {
   "cell_type": "code",
   "execution_count": 341,
   "metadata": {
    "ExecuteTime": {
     "end_time": "2020-03-04T05:34:51.780969Z",
     "start_time": "2020-03-04T05:34:51.561743Z"
    }
   },
   "outputs": [],
   "source": [
    "kaniko_op = load_component_from_file('components/kaniko/deploy.yaml')\n",
    "\n",
    "@dsl.pipeline(\n",
    "  name='Pipeline images',\n",
    "  description='Build images that will be used by the pipeline'\n",
    ")\n",
    "def build_image(\n",
    "        image, \n",
    "        context=None, \n",
    "        dockerfile: dsl.PipelineParam=dsl.PipelineParam(name='dockerfile', value='Dockerfile')):\n",
    "    dockerjson = dockerjson_pv(pull_secret=DOCKER_REGISTRY_PULL_SECRET)\n",
    "    kaniko_op(\n",
    "        image=image,\n",
    "        dockerfile=dockerfile,\n",
    "        context=context\n",
    "    ).add_pvolumes({\n",
    "        '/mnt/s3': dsl.PipelineVolume(pvc=BUCKET_PVC),\n",
    "        '/kaniko/.docker': dsl.PipelineVolume(volume=dockerjson),\n",
    "    })\n",
    "        \n",
    "Compiler().compile(build_image, 'argo-kaniko.yaml')\n",
    "utils.patch_pvolumes('argo-kaniko.yaml')"
   ]
  },
  {
   "cell_type": "markdown",
   "metadata": {},
   "source": [
    "Compiler transforms Python DSL into an [Argo Workflow](https://argoproj.github.io/docs/argo/readme.html). And stores generated artifacts in [`.kaniko.tar.gz`](.kaniko.tar.gz). So it could be executed multiple times. Perhaps with different parameters"
   ]
  },
  {
   "cell_type": "markdown",
   "metadata": {},
   "source": [
    "## Distributed Training\n",
    "Training is an integral part of our experiment. Distributed training means that it will be executed outside of a Jupyter Notebook and utilize maximum capacity of the current cluster. To achieve this we need to perform following actions:\n",
    "* Build a docker image for training\n",
    "* Define a training pipeline\n",
    "* Run the experiment\n",
    "\n",
    "### Building a training image\n",
    "Once pipeline has been defined we can reuse it multiple times by supplying different input parameters.\n",
    "\n",
    "Next section will upload all files to s3, to share access with the pipeline. Files that should be ignored can be customized in [kanikoignore.txt](./kanikoignore.txt). To understand upload scenario you can review and modify: [aws.py](./extensions/kaniko/aws.py)"
   ]
  },
  {
   "cell_type": "code",
   "execution_count": 342,
   "metadata": {
    "ExecuteTime": {
     "end_time": "2020-03-04T05:34:55.478617Z",
     "start_time": "2020-03-04T05:34:54.361601Z"
    }
   },
   "outputs": [
    {
     "data": {
      "text/html": [
       "Uploaded <a href=\"https://ml1-minio.app.ml1.demo51.superhub.io/minio/default/v24/buildcontext/\" target=\"_blank\" >\"75 files\"</a>; transferred: 131.77 KB"
      ],
      "text/plain": [
       "<IPython.core.display.HTML object>"
      ]
     },
     "metadata": {},
     "output_type": "display_data"
    },
    {
     "data": {
      "text/html": [
       "Run link <a href=\"/pipeline/#/runs/details/e120c90c-5dd9-11ea-9586-122862a16a39\" target=\"_blank\" >here</a>"
      ],
      "text/plain": [
       "<IPython.core.display.HTML object>"
      ]
     },
     "metadata": {},
     "output_type": "display_data"
    }
   ],
   "source": [
    "upload_to_s3(\n",
    "    destination=f\"s3://{BUCKET_NAME}/{BUILD_CONTEXT}\",\n",
    "    ignorefile='components/kaniko/ignorefile.txt',\n",
    "    workspace='.',\n",
    "    s3_client=s3\n",
    ")\n",
    "\n",
    "run = client.run_pipeline(\n",
    "    exp.id, f'Build image: training:{TAG}', 'argo-kaniko.yaml', \n",
    "    params={\n",
    "        'image': TRAINING_IMAGE,\n",
    "        'context': f\"{MOUNT_PATH}/{BUILD_CONTEXT}/components/training\"\n",
    "    })"
   ]
  },
  {
   "cell_type": "markdown",
   "metadata": {},
   "source": [
    "Build process may take more than 12 minutes, becaause Docker images used for machine learning can be very large. If your imeages are very large, you may need to increase the `timeout` parameter"
   ]
  },
  {
   "cell_type": "code",
   "execution_count": 300,
   "metadata": {
    "ExecuteTime": {
     "end_time": "2020-03-04T03:41:30.890106Z",
     "start_time": "2020-03-04T03:41:25.726525Z"
    }
   },
   "outputs": [
    {
     "name": "stdout",
     "output_type": "stream",
     "text": [
      "Waiting for run: 1829b069-5dc9-11ea-9586-122862a16a39...\n",
      "Finished with: Succeeded\n",
      "CPU times: user 5.73 ms, sys: 891 µs, total: 6.62 ms\n",
      "Wall time: 5.02 s\n"
     ]
    }
   ],
   "source": [
    "%%time\n",
    "# block until job completion\n",
    "print(f\"Waiting for run: {run.id}...\")\n",
    "result = client.wait_for_run_completion(run.id, timeout=720).run.status\n",
    "print(f\"Finished with: {result}\")"
   ]
  },
  {
   "cell_type": "markdown",
   "metadata": {},
   "source": [
    "### Define Pipeline\n",
    "We have extracted code for training pipeline into a [component](components/training). Python code that defines `training_op` as well as a `http_download_op` can be found [here](components/training/component.py)\n",
    "\n",
    "Below we will define a pipeline that will run the training pipeline as an experimnet. This pipeline will do the following. Every training operation (except download) will be encapsulated by the python script. You can change the scripts at your will however, you will need to rebuild a training image.\n",
    "\n",
    "* Download dataset from http \n",
    "* Split data into sample and test. It can also put a rownum limit into a dataset to increase feedback\n",
    "* Preprocess data for machine learning (clean, tokenize and transform text into vector)\n",
    "* Apply sequence to sequence training with Keras. By the completion trained model will be uplooaded into s3 bucket "
   ]
  },
  {
   "cell_type": "code",
   "execution_count": 349,
   "metadata": {
    "ExecuteTime": {
     "end_time": "2020-03-04T05:48:30.797909Z",
     "start_time": "2020-03-04T05:48:30.515465Z"
    }
   },
   "outputs": [],
   "source": [
    "from components.training import (http_download_op, training_op)\n",
    "\n",
    "@dsl.pipeline(\n",
    "  name='Training',\n",
    "  description=\"\"\"\n",
    "  Download dataset, \n",
    "  Split data set for training and validation, \n",
    "  Clean and preprocess data, \n",
    "  Train the model\n",
    "  \"\"\"\n",
    ")\n",
    "def training_pipeline(\n",
    "    datasetDir: dsl.PipelineParam, \n",
    "    datasetName: dsl.PipelineParam,\n",
    "    labels: dsl.PipelineParam,\n",
    "    remoteMinioServer: dsl.PipelineParam,\n",
    "    accessKey: dsl.PipelineParam,\n",
    "    secretKey: dsl.PipelineParam,\n",
    "    batchSize: dsl.PipelineParam,\n",
    "    width: dsl.PipelineParam,    \n",
    "    height: dsl.PipelineParam,\n",
    "    epochs: dsl.PipelineParam,\n",
    "    dropoutRate: dsl.PipelineParam,\n",
    "    learningRate: dsl.PipelineParam,\n",
    "    trainInput: dsl.PipelineParam,\n",
    "    modelVersion: dsl.PipelineParam,\n",
    "    modelDir: dsl.PipelineParam,\n",
    "    modelFname: dsl.PipelineParam\n",
    "):  \n",
    "\n",
    "    download = training_op(\n",
    "        script='download.py',\n",
    "        arguments=[\n",
    "            '--dataset_dir', datasetDir,\n",
    "            '--dataset_name', datasetName,\n",
    "            '--labels', labels,\n",
    "            '--remote_minio_server', remoteMinioServer,\n",
    "            '--access_key', accessKey,\n",
    "            '--secret_key', secretKey,\n",
    "        ]\n",
    "    ).add_pvolumes({\n",
    "        '/mnt/s3': dsl.PipelineVolume(pvc=BUCKET_PVC)\n",
    "    })\n",
    "\n",
    "    # Training\n",
    "    training = training_op(\n",
    "        script='train.py',\n",
    "        arguments=[\n",
    "            '--batch_size', batchSize,\n",
    "            '--width', width,\n",
    "            '--height', height,\n",
    "            '--epochs', epochs,\n",
    "            '--dropout_rate', dropoutRate,\n",
    "            '--learning_rate', learningRate,\n",
    "            '--dataset_name', datasetName,\n",
    "            '--train_input', trainInput,\n",
    "            '--model_version', modelVersion,\n",
    "            '--model_dir', modelDir,\n",
    "            '--model_fname', modelFname,\n",
    "            '--labels', labels,\n",
    "            '--tempfile', \"True\",\n",
    "        ],\n",
    "        file_outputs={'train': '/tmp/seq2seq.log'},\n",
    "    ).add_pvolumes({\n",
    "        '/mnt/s3': dsl.PipelineVolume(pvc=BUCKET_PVC)\n",
    "    }).after(download)\n",
    "\n",
    "Compiler().compile(training_pipeline, 'argo-distr-training.yaml')\n",
    "utils.patch_pvolumes('argo-distr-training.yaml')"
   ]
  },
  {
   "cell_type": "markdown",
   "metadata": {},
   "source": [
    "### Run the pipeline\n",
    "\n",
    "Code below will run a pipeline and inject some pipeline parameters. Here we provide two versions of data sets\n",
    "* `SAMPLE_DATA_SET` - Data set that has just over 2 megabytes. Not enough for sufficient training. However ideal for development, because of faster feedback.\n",
    "* `FULL_DATA_SET` - Precreated data set with all github issues. 3 gigabytes. Good enough for sufficient model\n",
    "\n",
    "Depending on your needs you can choose one or another data set and pass it as a pipeline parameter `data-set`"
   ]
  },
  {
   "cell_type": "code",
   "execution_count": 350,
   "metadata": {
    "ExecuteTime": {
     "end_time": "2020-03-04T05:48:31.994430Z",
     "start_time": "2020-03-04T05:48:31.790454Z"
    }
   },
   "outputs": [
    {
     "data": {
      "text/html": [
       "Run link <a href=\"/pipeline/#/runs/details/c7cf840b-5ddb-11ea-9586-122862a16a39\" target=\"_blank\" >here</a>"
      ],
      "text/plain": [
       "<IPython.core.display.HTML object>"
      ]
     },
     "metadata": {},
     "output_type": "display_data"
    }
   ],
   "source": [
    "\n",
    "run = client.run_pipeline(exp.id, f'Training model {TAG}: {datetime.now():%m%d-%H%M}', 'argo-distr-training.yaml',\n",
    "                          params={\n",
    "                              'datasetDir': DATASET_DIR,\n",
    "                              'datasetName': DATASET_NAME,\n",
    "                              'labels': LABELS,\n",
    "                              'remoteMinioServer': REMOTE_MINIO_SERVER,\n",
    "                              'accessKey': ACCESS_KEY,\n",
    "                              'secretKey': SECRET_KEY,\n",
    "                              'batchSize': 32,\n",
    "                              'width': 150,\n",
    "                              'height': 150,\n",
    "                              'epochs': 1,\n",
    "                              'dropoutRate': 0.2,\n",
    "                              'learningRate': 0.00002,\n",
    "                              'datasetName': DATASET_NAME,\n",
    "                              'trainInput': os.path.join(DATASET_DIR, DATASET_NAME),\n",
    "                              'modelVersion': MODEL_VERSION,\n",
    "                              'modelDir': MODEL_DIR,\n",
    "                              'modelFname': MODEL_FNAME,\n",
    "                          })"
   ]
  },
  {
   "cell_type": "code",
   "execution_count": 314,
   "metadata": {
    "ExecuteTime": {
     "end_time": "2020-03-04T04:02:26.639022Z",
     "start_time": "2020-03-04T04:01:51.385062Z"
    }
   },
   "outputs": [
    {
     "name": "stdout",
     "output_type": "stream",
     "text": [
      "Waiting for run: e0411abb-5dcc-11ea-9586-122862a16a39...\n",
      "Finished with: Failed\n",
      "CPU times: user 29.2 ms, sys: 8.46 ms, total: 37.7 ms\n",
      "Wall time: 35.1 s\n"
     ]
    }
   ],
   "source": [
    "%%time\n",
    "# block until job completion\n",
    "print(f\"Waiting for run: {run.id}...\")\n",
    "result = client.wait_for_run_completion(run.id, timeout=720).run.status\n",
    "print(f\"Finished with: {result}\")"
   ]
  },
  {
   "cell_type": "code",
   "execution_count": 356,
   "metadata": {
    "ExecuteTime": {
     "end_time": "2020-03-04T05:51:10.097288Z",
     "start_time": "2020-03-04T05:51:09.183760Z"
    }
   },
   "outputs": [
    {
     "name": "stdout",
     "output_type": "stream",
     "text": [
      "/home/jovyan/data/models/1/pneumothorax_03_04_08.h5\r\n"
     ]
    }
   ],
   "source": [
    "NB_MODEL_FILE = f\"/home/jovyan/data/models/{MODEL_VERSION}/{MODEL_FNAME}\"\n",
    "!ls $NB_MODEL_FILE"
   ]
  },
  {
   "cell_type": "code",
   "execution_count": 363,
   "metadata": {
    "ExecuteTime": {
     "end_time": "2020-03-04T06:17:33.336032Z",
     "start_time": "2020-03-04T06:17:33.055292Z"
    }
   },
   "outputs": [
    {
     "ename": "TypeError",
     "evalue": "__init__() got an unexpected keyword argument 'ragged'",
     "output_type": "error",
     "traceback": [
      "\u001b[0;31m---------------------------------------------------------------------------\u001b[0m",
      "\u001b[0;31mTypeError\u001b[0m                                 Traceback (most recent call last)",
      "\u001b[0;32m<ipython-input-363-c282e2e9f7e5>\u001b[0m in \u001b[0;36m<module>\u001b[0;34m\u001b[0m\n\u001b[1;32m      6\u001b[0m })\n\u001b[1;32m      7\u001b[0m \u001b[0;34m\u001b[0m\u001b[0m\n\u001b[0;32m----> 8\u001b[0;31m \u001b[0mmymodel\u001b[0m \u001b[0;34m=\u001b[0m \u001b[0mload_model\u001b[0m\u001b[0;34m(\u001b[0m\u001b[0mNB_MODEL_FILE\u001b[0m\u001b[0;34m)\u001b[0m\u001b[0;34m\u001b[0m\u001b[0;34m\u001b[0m\u001b[0m\n\u001b[0m",
      "\u001b[0;32m/opt/conda/lib/python3.6/site-packages/keras/engine/saving.py\u001b[0m in \u001b[0;36mload_model\u001b[0;34m(filepath, custom_objects, compile)\u001b[0m\n\u001b[1;32m    417\u001b[0m     \u001b[0mf\u001b[0m \u001b[0;34m=\u001b[0m \u001b[0mh5dict\u001b[0m\u001b[0;34m(\u001b[0m\u001b[0mfilepath\u001b[0m\u001b[0;34m,\u001b[0m \u001b[0;34m'r'\u001b[0m\u001b[0;34m)\u001b[0m\u001b[0;34m\u001b[0m\u001b[0;34m\u001b[0m\u001b[0m\n\u001b[1;32m    418\u001b[0m     \u001b[0;32mtry\u001b[0m\u001b[0;34m:\u001b[0m\u001b[0;34m\u001b[0m\u001b[0;34m\u001b[0m\u001b[0m\n\u001b[0;32m--> 419\u001b[0;31m         \u001b[0mmodel\u001b[0m \u001b[0;34m=\u001b[0m \u001b[0m_deserialize_model\u001b[0m\u001b[0;34m(\u001b[0m\u001b[0mf\u001b[0m\u001b[0;34m,\u001b[0m \u001b[0mcustom_objects\u001b[0m\u001b[0;34m,\u001b[0m \u001b[0mcompile\u001b[0m\u001b[0;34m)\u001b[0m\u001b[0;34m\u001b[0m\u001b[0;34m\u001b[0m\u001b[0m\n\u001b[0m\u001b[1;32m    420\u001b[0m     \u001b[0;32mfinally\u001b[0m\u001b[0;34m:\u001b[0m\u001b[0;34m\u001b[0m\u001b[0;34m\u001b[0m\u001b[0m\n\u001b[1;32m    421\u001b[0m         \u001b[0;32mif\u001b[0m \u001b[0mopened_new_file\u001b[0m\u001b[0;34m:\u001b[0m\u001b[0;34m\u001b[0m\u001b[0;34m\u001b[0m\u001b[0m\n",
      "\u001b[0;32m/opt/conda/lib/python3.6/site-packages/keras/engine/saving.py\u001b[0m in \u001b[0;36m_deserialize_model\u001b[0;34m(f, custom_objects, compile)\u001b[0m\n\u001b[1;32m    223\u001b[0m         \u001b[0;32mraise\u001b[0m \u001b[0mValueError\u001b[0m\u001b[0;34m(\u001b[0m\u001b[0;34m'No model found in config.'\u001b[0m\u001b[0;34m)\u001b[0m\u001b[0;34m\u001b[0m\u001b[0;34m\u001b[0m\u001b[0m\n\u001b[1;32m    224\u001b[0m     \u001b[0mmodel_config\u001b[0m \u001b[0;34m=\u001b[0m \u001b[0mjson\u001b[0m\u001b[0;34m.\u001b[0m\u001b[0mloads\u001b[0m\u001b[0;34m(\u001b[0m\u001b[0mmodel_config\u001b[0m\u001b[0;34m.\u001b[0m\u001b[0mdecode\u001b[0m\u001b[0;34m(\u001b[0m\u001b[0;34m'utf-8'\u001b[0m\u001b[0;34m)\u001b[0m\u001b[0;34m)\u001b[0m\u001b[0;34m\u001b[0m\u001b[0;34m\u001b[0m\u001b[0m\n\u001b[0;32m--> 225\u001b[0;31m     \u001b[0mmodel\u001b[0m \u001b[0;34m=\u001b[0m \u001b[0mmodel_from_config\u001b[0m\u001b[0;34m(\u001b[0m\u001b[0mmodel_config\u001b[0m\u001b[0;34m,\u001b[0m \u001b[0mcustom_objects\u001b[0m\u001b[0;34m=\u001b[0m\u001b[0mcustom_objects\u001b[0m\u001b[0;34m)\u001b[0m\u001b[0;34m\u001b[0m\u001b[0;34m\u001b[0m\u001b[0m\n\u001b[0m\u001b[1;32m    226\u001b[0m     \u001b[0mmodel_weights_group\u001b[0m \u001b[0;34m=\u001b[0m \u001b[0mf\u001b[0m\u001b[0;34m[\u001b[0m\u001b[0;34m'model_weights'\u001b[0m\u001b[0;34m]\u001b[0m\u001b[0;34m\u001b[0m\u001b[0;34m\u001b[0m\u001b[0m\n\u001b[1;32m    227\u001b[0m \u001b[0;34m\u001b[0m\u001b[0m\n",
      "\u001b[0;32m/opt/conda/lib/python3.6/site-packages/keras/engine/saving.py\u001b[0m in \u001b[0;36mmodel_from_config\u001b[0;34m(config, custom_objects)\u001b[0m\n\u001b[1;32m    456\u001b[0m                         '`Sequential.from_config(config)`?')\n\u001b[1;32m    457\u001b[0m     \u001b[0;32mfrom\u001b[0m \u001b[0;34m.\u001b[0m\u001b[0;34m.\u001b[0m\u001b[0mlayers\u001b[0m \u001b[0;32mimport\u001b[0m \u001b[0mdeserialize\u001b[0m\u001b[0;34m\u001b[0m\u001b[0;34m\u001b[0m\u001b[0m\n\u001b[0;32m--> 458\u001b[0;31m     \u001b[0;32mreturn\u001b[0m \u001b[0mdeserialize\u001b[0m\u001b[0;34m(\u001b[0m\u001b[0mconfig\u001b[0m\u001b[0;34m,\u001b[0m \u001b[0mcustom_objects\u001b[0m\u001b[0;34m=\u001b[0m\u001b[0mcustom_objects\u001b[0m\u001b[0;34m)\u001b[0m\u001b[0;34m\u001b[0m\u001b[0;34m\u001b[0m\u001b[0m\n\u001b[0m\u001b[1;32m    459\u001b[0m \u001b[0;34m\u001b[0m\u001b[0m\n\u001b[1;32m    460\u001b[0m \u001b[0;34m\u001b[0m\u001b[0m\n",
      "\u001b[0;32m/opt/conda/lib/python3.6/site-packages/keras/layers/__init__.py\u001b[0m in \u001b[0;36mdeserialize\u001b[0;34m(config, custom_objects)\u001b[0m\n\u001b[1;32m     53\u001b[0m                                     \u001b[0mmodule_objects\u001b[0m\u001b[0;34m=\u001b[0m\u001b[0mglobs\u001b[0m\u001b[0;34m,\u001b[0m\u001b[0;34m\u001b[0m\u001b[0;34m\u001b[0m\u001b[0m\n\u001b[1;32m     54\u001b[0m                                     \u001b[0mcustom_objects\u001b[0m\u001b[0;34m=\u001b[0m\u001b[0mcustom_objects\u001b[0m\u001b[0;34m,\u001b[0m\u001b[0;34m\u001b[0m\u001b[0;34m\u001b[0m\u001b[0m\n\u001b[0;32m---> 55\u001b[0;31m                                     printable_module_name='layer')\n\u001b[0m",
      "\u001b[0;32m/opt/conda/lib/python3.6/site-packages/keras/utils/generic_utils.py\u001b[0m in \u001b[0;36mdeserialize_keras_object\u001b[0;34m(identifier, module_objects, custom_objects, printable_module_name)\u001b[0m\n\u001b[1;32m    143\u001b[0m                     \u001b[0mconfig\u001b[0m\u001b[0;34m[\u001b[0m\u001b[0;34m'config'\u001b[0m\u001b[0;34m]\u001b[0m\u001b[0;34m,\u001b[0m\u001b[0;34m\u001b[0m\u001b[0;34m\u001b[0m\u001b[0m\n\u001b[1;32m    144\u001b[0m                     custom_objects=dict(list(_GLOBAL_CUSTOM_OBJECTS.items()) +\n\u001b[0;32m--> 145\u001b[0;31m                                         list(custom_objects.items())))\n\u001b[0m\u001b[1;32m    146\u001b[0m             \u001b[0;32mwith\u001b[0m \u001b[0mCustomObjectScope\u001b[0m\u001b[0;34m(\u001b[0m\u001b[0mcustom_objects\u001b[0m\u001b[0;34m)\u001b[0m\u001b[0;34m:\u001b[0m\u001b[0;34m\u001b[0m\u001b[0;34m\u001b[0m\u001b[0m\n\u001b[1;32m    147\u001b[0m                 \u001b[0;32mreturn\u001b[0m \u001b[0mcls\u001b[0m\u001b[0;34m.\u001b[0m\u001b[0mfrom_config\u001b[0m\u001b[0;34m(\u001b[0m\u001b[0mconfig\u001b[0m\u001b[0;34m[\u001b[0m\u001b[0;34m'config'\u001b[0m\u001b[0;34m]\u001b[0m\u001b[0;34m)\u001b[0m\u001b[0;34m\u001b[0m\u001b[0;34m\u001b[0m\u001b[0m\n",
      "\u001b[0;32m/opt/conda/lib/python3.6/site-packages/keras/engine/sequential.py\u001b[0m in \u001b[0;36mfrom_config\u001b[0;34m(cls, config, custom_objects)\u001b[0m\n\u001b[1;32m    298\u001b[0m         \u001b[0;32mfor\u001b[0m \u001b[0mconf\u001b[0m \u001b[0;32min\u001b[0m \u001b[0mlayer_configs\u001b[0m\u001b[0;34m:\u001b[0m\u001b[0;34m\u001b[0m\u001b[0;34m\u001b[0m\u001b[0m\n\u001b[1;32m    299\u001b[0m             layer = layer_module.deserialize(conf,\n\u001b[0;32m--> 300\u001b[0;31m                                              custom_objects=custom_objects)\n\u001b[0m\u001b[1;32m    301\u001b[0m             \u001b[0mmodel\u001b[0m\u001b[0;34m.\u001b[0m\u001b[0madd\u001b[0m\u001b[0;34m(\u001b[0m\u001b[0mlayer\u001b[0m\u001b[0;34m)\u001b[0m\u001b[0;34m\u001b[0m\u001b[0;34m\u001b[0m\u001b[0m\n\u001b[1;32m    302\u001b[0m         \u001b[0;32mif\u001b[0m \u001b[0;32mnot\u001b[0m \u001b[0mmodel\u001b[0m\u001b[0;34m.\u001b[0m\u001b[0minputs\u001b[0m \u001b[0;32mand\u001b[0m \u001b[0mbuild_input_shape\u001b[0m\u001b[0;34m:\u001b[0m\u001b[0;34m\u001b[0m\u001b[0;34m\u001b[0m\u001b[0m\n",
      "\u001b[0;32m/opt/conda/lib/python3.6/site-packages/keras/layers/__init__.py\u001b[0m in \u001b[0;36mdeserialize\u001b[0;34m(config, custom_objects)\u001b[0m\n\u001b[1;32m     53\u001b[0m                                     \u001b[0mmodule_objects\u001b[0m\u001b[0;34m=\u001b[0m\u001b[0mglobs\u001b[0m\u001b[0;34m,\u001b[0m\u001b[0;34m\u001b[0m\u001b[0;34m\u001b[0m\u001b[0m\n\u001b[1;32m     54\u001b[0m                                     \u001b[0mcustom_objects\u001b[0m\u001b[0;34m=\u001b[0m\u001b[0mcustom_objects\u001b[0m\u001b[0;34m,\u001b[0m\u001b[0;34m\u001b[0m\u001b[0;34m\u001b[0m\u001b[0m\n\u001b[0;32m---> 55\u001b[0;31m                                     printable_module_name='layer')\n\u001b[0m",
      "\u001b[0;32m/opt/conda/lib/python3.6/site-packages/keras/utils/generic_utils.py\u001b[0m in \u001b[0;36mdeserialize_keras_object\u001b[0;34m(identifier, module_objects, custom_objects, printable_module_name)\u001b[0m\n\u001b[1;32m    143\u001b[0m                     \u001b[0mconfig\u001b[0m\u001b[0;34m[\u001b[0m\u001b[0;34m'config'\u001b[0m\u001b[0;34m]\u001b[0m\u001b[0;34m,\u001b[0m\u001b[0;34m\u001b[0m\u001b[0;34m\u001b[0m\u001b[0m\n\u001b[1;32m    144\u001b[0m                     custom_objects=dict(list(_GLOBAL_CUSTOM_OBJECTS.items()) +\n\u001b[0;32m--> 145\u001b[0;31m                                         list(custom_objects.items())))\n\u001b[0m\u001b[1;32m    146\u001b[0m             \u001b[0;32mwith\u001b[0m \u001b[0mCustomObjectScope\u001b[0m\u001b[0;34m(\u001b[0m\u001b[0mcustom_objects\u001b[0m\u001b[0;34m)\u001b[0m\u001b[0;34m:\u001b[0m\u001b[0;34m\u001b[0m\u001b[0;34m\u001b[0m\u001b[0m\n\u001b[1;32m    147\u001b[0m                 \u001b[0;32mreturn\u001b[0m \u001b[0mcls\u001b[0m\u001b[0;34m.\u001b[0m\u001b[0mfrom_config\u001b[0m\u001b[0;34m(\u001b[0m\u001b[0mconfig\u001b[0m\u001b[0;34m[\u001b[0m\u001b[0;34m'config'\u001b[0m\u001b[0;34m]\u001b[0m\u001b[0;34m)\u001b[0m\u001b[0;34m\u001b[0m\u001b[0;34m\u001b[0m\u001b[0m\n",
      "\u001b[0;32m/opt/conda/lib/python3.6/site-packages/keras/engine/network.py\u001b[0m in \u001b[0;36mfrom_config\u001b[0;34m(cls, config, custom_objects)\u001b[0m\n\u001b[1;32m   1020\u001b[0m         \u001b[0;31m# First, we create all layers and enqueue nodes to be processed\u001b[0m\u001b[0;34m\u001b[0m\u001b[0;34m\u001b[0m\u001b[0;34m\u001b[0m\u001b[0m\n\u001b[1;32m   1021\u001b[0m         \u001b[0;32mfor\u001b[0m \u001b[0mlayer_data\u001b[0m \u001b[0;32min\u001b[0m \u001b[0mconfig\u001b[0m\u001b[0;34m[\u001b[0m\u001b[0;34m'layers'\u001b[0m\u001b[0;34m]\u001b[0m\u001b[0;34m:\u001b[0m\u001b[0;34m\u001b[0m\u001b[0;34m\u001b[0m\u001b[0m\n\u001b[0;32m-> 1022\u001b[0;31m             \u001b[0mprocess_layer\u001b[0m\u001b[0;34m(\u001b[0m\u001b[0mlayer_data\u001b[0m\u001b[0;34m)\u001b[0m\u001b[0;34m\u001b[0m\u001b[0;34m\u001b[0m\u001b[0m\n\u001b[0m\u001b[1;32m   1023\u001b[0m         \u001b[0;31m# Then we process nodes in order of layer depth.\u001b[0m\u001b[0;34m\u001b[0m\u001b[0;34m\u001b[0m\u001b[0;34m\u001b[0m\u001b[0m\n\u001b[1;32m   1024\u001b[0m         \u001b[0;31m# Nodes that cannot yet be processed (if the inbound node\u001b[0m\u001b[0;34m\u001b[0m\u001b[0;34m\u001b[0m\u001b[0;34m\u001b[0m\u001b[0m\n",
      "\u001b[0;32m/opt/conda/lib/python3.6/site-packages/keras/engine/network.py\u001b[0m in \u001b[0;36mprocess_layer\u001b[0;34m(layer_data)\u001b[0m\n\u001b[1;32m   1006\u001b[0m \u001b[0;34m\u001b[0m\u001b[0m\n\u001b[1;32m   1007\u001b[0m             layer = deserialize_layer(layer_data,\n\u001b[0;32m-> 1008\u001b[0;31m                                       custom_objects=custom_objects)\n\u001b[0m\u001b[1;32m   1009\u001b[0m             \u001b[0mcreated_layers\u001b[0m\u001b[0;34m[\u001b[0m\u001b[0mlayer_name\u001b[0m\u001b[0;34m]\u001b[0m \u001b[0;34m=\u001b[0m \u001b[0mlayer\u001b[0m\u001b[0;34m\u001b[0m\u001b[0;34m\u001b[0m\u001b[0m\n\u001b[1;32m   1010\u001b[0m \u001b[0;34m\u001b[0m\u001b[0m\n",
      "\u001b[0;32m/opt/conda/lib/python3.6/site-packages/keras/layers/__init__.py\u001b[0m in \u001b[0;36mdeserialize\u001b[0;34m(config, custom_objects)\u001b[0m\n\u001b[1;32m     53\u001b[0m                                     \u001b[0mmodule_objects\u001b[0m\u001b[0;34m=\u001b[0m\u001b[0mglobs\u001b[0m\u001b[0;34m,\u001b[0m\u001b[0;34m\u001b[0m\u001b[0;34m\u001b[0m\u001b[0m\n\u001b[1;32m     54\u001b[0m                                     \u001b[0mcustom_objects\u001b[0m\u001b[0;34m=\u001b[0m\u001b[0mcustom_objects\u001b[0m\u001b[0;34m,\u001b[0m\u001b[0;34m\u001b[0m\u001b[0;34m\u001b[0m\u001b[0m\n\u001b[0;32m---> 55\u001b[0;31m                                     printable_module_name='layer')\n\u001b[0m",
      "\u001b[0;32m/opt/conda/lib/python3.6/site-packages/keras/utils/generic_utils.py\u001b[0m in \u001b[0;36mdeserialize_keras_object\u001b[0;34m(identifier, module_objects, custom_objects, printable_module_name)\u001b[0m\n\u001b[1;32m    145\u001b[0m                                         list(custom_objects.items())))\n\u001b[1;32m    146\u001b[0m             \u001b[0;32mwith\u001b[0m \u001b[0mCustomObjectScope\u001b[0m\u001b[0;34m(\u001b[0m\u001b[0mcustom_objects\u001b[0m\u001b[0;34m)\u001b[0m\u001b[0;34m:\u001b[0m\u001b[0;34m\u001b[0m\u001b[0;34m\u001b[0m\u001b[0m\n\u001b[0;32m--> 147\u001b[0;31m                 \u001b[0;32mreturn\u001b[0m \u001b[0mcls\u001b[0m\u001b[0;34m.\u001b[0m\u001b[0mfrom_config\u001b[0m\u001b[0;34m(\u001b[0m\u001b[0mconfig\u001b[0m\u001b[0;34m[\u001b[0m\u001b[0;34m'config'\u001b[0m\u001b[0;34m]\u001b[0m\u001b[0;34m)\u001b[0m\u001b[0;34m\u001b[0m\u001b[0;34m\u001b[0m\u001b[0m\n\u001b[0m\u001b[1;32m    148\u001b[0m         \u001b[0;32melse\u001b[0m\u001b[0;34m:\u001b[0m\u001b[0;34m\u001b[0m\u001b[0;34m\u001b[0m\u001b[0m\n\u001b[1;32m    149\u001b[0m             \u001b[0;31m# Then `cls` may be a function returning a class.\u001b[0m\u001b[0;34m\u001b[0m\u001b[0;34m\u001b[0m\u001b[0;34m\u001b[0m\u001b[0m\n",
      "\u001b[0;32m/opt/conda/lib/python3.6/site-packages/keras/engine/base_layer.py\u001b[0m in \u001b[0;36mfrom_config\u001b[0;34m(cls, config)\u001b[0m\n\u001b[1;32m   1107\u001b[0m             \u001b[0mA\u001b[0m \u001b[0mlayer\u001b[0m \u001b[0minstance\u001b[0m\u001b[0;34m.\u001b[0m\u001b[0;34m\u001b[0m\u001b[0;34m\u001b[0m\u001b[0m\n\u001b[1;32m   1108\u001b[0m         \"\"\"\n\u001b[0;32m-> 1109\u001b[0;31m         \u001b[0;32mreturn\u001b[0m \u001b[0mcls\u001b[0m\u001b[0;34m(\u001b[0m\u001b[0;34m**\u001b[0m\u001b[0mconfig\u001b[0m\u001b[0;34m)\u001b[0m\u001b[0;34m\u001b[0m\u001b[0;34m\u001b[0m\u001b[0m\n\u001b[0m\u001b[1;32m   1110\u001b[0m \u001b[0;34m\u001b[0m\u001b[0m\n\u001b[1;32m   1111\u001b[0m     \u001b[0;32mdef\u001b[0m \u001b[0mcount_params\u001b[0m\u001b[0;34m(\u001b[0m\u001b[0mself\u001b[0m\u001b[0;34m)\u001b[0m\u001b[0;34m:\u001b[0m\u001b[0;34m\u001b[0m\u001b[0;34m\u001b[0m\u001b[0m\n",
      "\u001b[0;32m/opt/conda/lib/python3.6/site-packages/keras/legacy/interfaces.py\u001b[0m in \u001b[0;36mwrapper\u001b[0;34m(*args, **kwargs)\u001b[0m\n\u001b[1;32m     89\u001b[0m                 warnings.warn('Update your `' + object_name + '` call to the ' +\n\u001b[1;32m     90\u001b[0m                               'Keras 2 API: ' + signature, stacklevel=2)\n\u001b[0;32m---> 91\u001b[0;31m             \u001b[0;32mreturn\u001b[0m \u001b[0mfunc\u001b[0m\u001b[0;34m(\u001b[0m\u001b[0;34m*\u001b[0m\u001b[0margs\u001b[0m\u001b[0;34m,\u001b[0m \u001b[0;34m**\u001b[0m\u001b[0mkwargs\u001b[0m\u001b[0;34m)\u001b[0m\u001b[0;34m\u001b[0m\u001b[0;34m\u001b[0m\u001b[0m\n\u001b[0m\u001b[1;32m     92\u001b[0m         \u001b[0mwrapper\u001b[0m\u001b[0;34m.\u001b[0m\u001b[0m_original_function\u001b[0m \u001b[0;34m=\u001b[0m \u001b[0mfunc\u001b[0m\u001b[0;34m\u001b[0m\u001b[0;34m\u001b[0m\u001b[0m\n\u001b[1;32m     93\u001b[0m         \u001b[0;32mreturn\u001b[0m \u001b[0mwrapper\u001b[0m\u001b[0;34m\u001b[0m\u001b[0;34m\u001b[0m\u001b[0m\n",
      "\u001b[0;31mTypeError\u001b[0m: __init__() got an unexpected keyword argument 'ragged'"
     ]
    }
   ],
   "source": [
    "from efficientnet import load_model\n",
    "get_custom_objects().update({\n",
    "            'ConvKernalInitializer': ConvKernalInitializer,\n",
    "            'Swish': Swish,\n",
    "            'DropConnect':DropConnect\n",
    "})\n",
    "\n",
    "mymodel = load_model(NB_MODEL_FILE)"
   ]
  },
  {
   "cell_type": "code",
   "execution_count": 360,
   "metadata": {
    "ExecuteTime": {
     "end_time": "2020-03-04T05:53:08.416383Z",
     "start_time": "2020-03-04T05:53:08.259617Z"
    }
   },
   "outputs": [],
   "source": [
    "# eval model\n",
    "get_custom_objects().update({\n",
    "            'ConvKernalInitializer': ConvKernalInitializer,\n",
    "            'Swish': Swish,\n",
    "            'DropConnect':DropConnect\n",
    "})\n",
    "\n",
    "#model = load_model(NB_MODEL_FILE)\n",
    "# Do any preprocessing\n",
    "#prediction = model.predict(data=X)"
   ]
  },
  {
   "cell_type": "markdown",
   "metadata": {},
   "source": [
    "## Serving with Seldon\n",
    "Prepping a container for serving. \n",
    "\n",
    "Here we define all variables that will be needed for our dockerfile tempalte. \n",
    "\n",
    "- `MODEL_WRAPPER`: is a name of a python class that adapts keras model for serving\n",
    "- `MODEL_NAME`: used in seldon deployment\n",
    "- `MODEL_VERSION`: one model can be served multiple times with different versions simulteniously\n",
    "- `SELDON_DEPLOYMENT`: name of kubernetes resource\n",
    "- `SELDON_OAUTH_KEY`: part of shared secret between `SeldonDeployment` and a client application\n",
    "- `SELDON_OAUTH_SECRET`: part of shared secret between `SeldonDeployment` and a client application\n",
    "- `REPLICAS`: number of replicas for `SeldonDeployment` pod"
   ]
  },
  {
   "cell_type": "code",
   "execution_count": null,
   "metadata": {},
   "outputs": [],
   "source": [
    "import re\n",
    "\n",
    "MODEL_WRAPPER = 'EfficientNetModel'\n",
    "MODEL_NAME = re.sub(r'\\W+', '-', MODEL_WRAPPER).lower()\n",
    "MODEL_VERSION = TAG\n",
    "SELDON_DEPLOYMENT = f\"{MODEL_NAME}-{MODEL_VERSION}\"\n",
    "# here we hash a information about model, so it would be predictable\n",
    "SELDON_OAUTH_KEY = utils.sha1(MODEL_NAME, MODEL_VERSION, NAMESPACE)\n",
    "# for secure secret we will use hash of user defined shared secret salted with OAUTH_KEY\n",
    "SELDON_OAUTH_SECRET = utils.sha1(SELDON_OAUTH_KEY, get_secret('USER_SECRET_FOR_MODEL'))\n",
    "SELDON_APISERVER_ADDR=f\"seldon-seldon-apiserver.{NAMESPACE}:8080\"\n",
    "\n",
    "SELDON_DEPLOYMENT_REPLICAS = 1"
   ]
  },
  {
   "cell_type": "markdown",
   "metadata": {},
   "source": [
    "### Building a serving image\n",
    "\n",
    "`SeldonDeployment` needs a docker image that contains a model wrapper written in (but not limited) Python\n",
    "\n",
    "This step will build a container and serve it"
   ]
  },
  {
   "cell_type": "code",
   "execution_count": 361,
   "metadata": {
    "ExecuteTime": {
     "end_time": "2020-03-04T06:01:03.103408Z",
     "start_time": "2020-03-04T06:01:02.951313Z"
    }
   },
   "outputs": [
    {
     "data": {
      "text/html": [
       "<a href='components/serving/Dockerfile' target='_blank'>components/serving/Dockerfile</a><br>"
      ],
      "text/plain": [
       "/home/jovyan/.git-sync/rev-d77f05c3d73e00d03ee7deae65c5f5fbcd78b8c4/components/serving/Dockerfile"
      ]
     },
     "metadata": {},
     "output_type": "display_data"
    }
   ],
   "source": [
    "%%template components/serving/Dockerfile\n",
    "FROM seldonio/seldon-core-s2i-python3\n",
    "\n",
    "FROM {{TRAINING_IMAGE}}\n",
    "RUN pip3 install --no-cache-dir -U 'seldon-core'\n",
    "\n",
    "COPY --from=0 /microservice /microservice\n",
    "COPY src/serving.py /microservice/{{MODEL_WRAPPER}}.py\n",
    "\n",
    "WORKDIR /microservice\n",
    "ENTRYPOINT [\"python\",\"-u\",\"microservice.py\"]\n",
    "CMD [\"{{MODEL_WRAPPER}}\", \"REST\"]"
   ]
  },
  {
   "cell_type": "markdown",
   "metadata": {},
   "source": [
    "To be able to serve trained model we build an image with our serving microservice. To achieve this we reuse our kaniko pipeline defined above"
   ]
  },
  {
   "cell_type": "code",
   "execution_count": null,
   "metadata": {},
   "outputs": [],
   "source": [
    "upload_to_s3(\n",
    "    destination=f\"s3://{BUCKET_NAME}/{BUILD_CONTEXT}\",\n",
    "    ignorefile='components/kaniko/ignorefile.txt',\n",
    "    workspace='.',\n",
    "    s3_client=s3,\n",
    ")\n",
    "\n",
    "run = client.run_pipeline(exp.id, f'Build image: serving:{TAG}', 'argo-kaniko.yaml', \n",
    "                          params={\n",
    "                              'image': SERVING_IMAGE,\n",
    "                              'context': f\"{MOUNT_PATH}/{BUILD_CONTEXT}/components/serving\"\n",
    "                          })"
   ]
  },
  {
   "cell_type": "code",
   "execution_count": null,
   "metadata": {},
   "outputs": [],
   "source": [
    "%%time\n",
    "# block until job completion\n",
    "print(f\"Waiting for run: {run.id}...\")\n",
    "result = client.wait_for_run_completion(run.id, timeout=720).run.status\n",
    "print(f\"Finished with: {result}\")"
   ]
  },
  {
   "cell_type": "markdown",
   "metadata": {},
   "source": [
    "### Serve model\n",
    "\n",
    "Then we render our `SeldonDeployment` template and deploy it with `kubectl`, similar as we have done before with `pvc` definition. Here we define reference to the model that will be used for serving"
   ]
  },
  {
   "cell_type": "code",
   "execution_count": 198,
   "metadata": {
    "ExecuteTime": {
     "end_time": "2020-03-03T22:04:57.102060Z",
     "start_time": "2020-03-03T22:04:55.957348Z"
    }
   },
   "outputs": [
    {
     "name": "stdout",
     "output_type": "stream",
     "text": [
      "-rw-r--r--. 1 jovyan users 181732 Feb 24 21:06 /home/jovyan/data/santosh-test/datasets/normal_pneumothorax/normal/CXR100_IM-0002-1001.png\n",
      "-rw-r--r--. 1 jovyan users 153936 Feb 24 21:06 /home/jovyan/data/santosh-test/datasets/normal_pneumothorax/normal/CXR100_IM-0002-2001.png\n",
      "-rw-r--r--. 1 jovyan users 202821 Feb 24 21:06 /home/jovyan/data/santosh-test/datasets/normal_pneumothorax/normal/CXR106_IM-0042-1001.png\n",
      "-rw-r--r--. 1 jovyan users 154013 Feb 24 21:06 /home/jovyan/data/santosh-test/datasets/normal_pneumothorax/normal/CXR106_IM-0042-2001.png\n",
      "-rw-r--r--. 1 jovyan users 141700 Feb 24 21:06 /home/jovyan/data/santosh-test/datasets/normal_pneumothorax/normal/CXR107_IM-0049-1001.png\n",
      "-rw-r--r--. 1 jovyan users 119313 Feb 24 21:06 /home/jovyan/data/santosh-test/datasets/normal_pneumothorax/normal/CXR107_IM-0049-2001.png\n",
      "-rw-r--r--. 1 jovyan users 195200 Feb 24 21:06 /home/jovyan/data/santosh-test/datasets/normal_pneumothorax/normal/CXR10_IM-0002-1001.png\n",
      "-rw-r--r--. 1 jovyan users 175008 Feb 24 21:06 /home/jovyan/data/santosh-test/datasets/normal_pneumothorax/normal/CXR10_IM-0002-2001.png\n",
      "-rw-r--r--. 1 jovyan users 191602 Feb 24 21:06 /home/jovyan/data/santosh-test/datasets/normal_pneumothorax/normal/CXR110_IM-0067-1001.png\n",
      "-rw-r--r--. 1 jovyan users 176877 Feb 24 21:06 /home/jovyan/data/santosh-test/datasets/normal_pneumothorax/normal/CXR110_IM-0067-2001.png\n",
      "-rw-r--r--. 1 jovyan users 214057 Feb 24 21:06 /home/jovyan/data/santosh-test/datasets/normal_pneumothorax/normal/CXR111_IM-0076-1001.png\n",
      "-rw-r--r--. 1 jovyan users 167762 Feb 24 21:06 /home/jovyan/data/santosh-test/datasets/normal_pneumothorax/normal/CXR114_IM-0096-1001.png\n",
      "-rw-r--r--. 1 jovyan users 149434 Feb 24 21:06 /home/jovyan/data/santosh-test/datasets/normal_pneumothorax/normal/CXR114_IM-0096-2001.png\n",
      "-rw-r--r--. 1 jovyan users 211841 Feb 24 21:06 /home/jovyan/data/santosh-test/datasets/normal_pneumothorax/normal/CXR115_IM-0102-1001.png\n",
      "-rw-r--r--. 1 jovyan users 178648 Feb 24 21:06 /home/jovyan/data/santosh-test/datasets/normal_pneumothorax/normal/CXR115_IM-0102-2001.png\n",
      "-rw-r--r--. 1 jovyan users 265109 Feb 24 21:06 /home/jovyan/data/santosh-test/datasets/normal_pneumothorax/normal/CXR116_IM-0107-1001.png\n",
      "-rw-r--r--. 1 jovyan users 235255 Feb 24 21:06 /home/jovyan/data/santosh-test/datasets/normal_pneumothorax/normal/CXR116_IM-0107-2001.png\n",
      "-rw-r--r--. 1 jovyan users 252721 Feb 24 21:06 /home/jovyan/data/santosh-test/datasets/normal_pneumothorax/normal/CXR117_IM-0114-2002.png\n",
      "-rw-r--r--. 1 jovyan users 234671 Feb 24 21:06 /home/jovyan/data/santosh-test/datasets/normal_pneumothorax/normal/CXR117_IM-0114-3003.png\n",
      "-rw-r--r--. 1 jovyan users 193858 Feb 24 21:06 /home/jovyan/data/santosh-test/datasets/normal_pneumothorax/normal/CXR119_IM-0128-1001.png\n",
      "-rw-r--r--. 1 jovyan users 212406 Feb 24 21:06 /home/jovyan/data/santosh-test/datasets/normal_pneumothorax/normal/CXR11_IM-0067-1001.png\n",
      "-rw-r--r--. 1 jovyan users 198935 Feb 24 21:06 /home/jovyan/data/santosh-test/datasets/normal_pneumothorax/normal/CXR11_IM-0067-2001.png\n",
      "-rw-r--r--. 1 jovyan users 190476 Feb 24 21:06 /home/jovyan/data/santosh-test/datasets/normal_pneumothorax/normal/CXR120_IM-0133-1001.png\n",
      "-rw-r--r--. 1 jovyan users 163573 Feb 24 21:06 /home/jovyan/data/santosh-test/datasets/normal_pneumothorax/normal/CXR120_IM-0133-2001.png\n",
      "-rw-r--r--. 1 jovyan users 189079 Feb 24 21:06 /home/jovyan/data/santosh-test/datasets/normal_pneumothorax/normal/CXR121_IM-0142-1001.png\n",
      "-rw-r--r--. 1 jovyan users 167968 Feb 24 21:06 /home/jovyan/data/santosh-test/datasets/normal_pneumothorax/normal/CXR121_IM-0142-2001.png\n",
      "-rw-r--r--. 1 jovyan users 212977 Feb 24 21:06 /home/jovyan/data/santosh-test/datasets/normal_pneumothorax/normal/CXR127_IM-0181-1001.png\n",
      "-rw-r--r--. 1 jovyan users 192824 Feb 24 21:06 /home/jovyan/data/santosh-test/datasets/normal_pneumothorax/normal/CXR129_IM-0189-1001.png\n",
      "-rw-r--r--. 1 jovyan users 207623 Feb 24 21:06 /home/jovyan/data/santosh-test/datasets/normal_pneumothorax/normal/CXR129_IM-0189-2001.png\n",
      "-rw-r--r--. 1 jovyan users 141144 Feb 24 21:06 /home/jovyan/data/santosh-test/datasets/normal_pneumothorax/normal/CXR12_IM-0133-1001.png\n",
      "-rw-r--r--. 1 jovyan users 170194 Feb 24 21:06 /home/jovyan/data/santosh-test/datasets/normal_pneumothorax/normal/CXR12_IM-0133-2001.png\n",
      "-rw-r--r--. 1 jovyan users 175770 Feb 24 21:06 /home/jovyan/data/santosh-test/datasets/normal_pneumothorax/normal/CXR130_IM-0198-2001.png\n",
      "-rw-r--r--. 1 jovyan users 218599 Feb 24 21:06 /home/jovyan/data/santosh-test/datasets/normal_pneumothorax/normal/CXR131_IM-0202-1001.png\n",
      "-rw-r--r--. 1 jovyan users 160981 Feb 24 21:06 /home/jovyan/data/santosh-test/datasets/normal_pneumothorax/normal/CXR131_IM-0202-2001.png\n",
      "-rw-r--r--. 1 jovyan users 215691 Feb 24 21:06 /home/jovyan/data/santosh-test/datasets/normal_pneumothorax/normal/CXR133_IM-0212-1001.png\n",
      "-rw-r--r--. 1 jovyan users 204801 Feb 24 21:06 /home/jovyan/data/santosh-test/datasets/normal_pneumothorax/normal/CXR133_IM-0212-2001.png\n",
      "-rw-r--r--. 1 jovyan users 189747 Feb 24 21:06 /home/jovyan/data/santosh-test/datasets/normal_pneumothorax/normal/CXR133_IM-0212-3001.png\n",
      "-rw-r--r--. 1 jovyan users 261295 Feb 24 21:06 /home/jovyan/data/santosh-test/datasets/normal_pneumothorax/normal/CXR135_IM-0227-1001.png\n",
      "-rw-r--r--. 1 jovyan users 207935 Feb 24 21:06 /home/jovyan/data/santosh-test/datasets/normal_pneumothorax/normal/CXR135_IM-0227-3003.png\n",
      "-rw-r--r--. 1 jovyan users 188257 Feb 24 21:06 /home/jovyan/data/santosh-test/datasets/normal_pneumothorax/normal/CXR136_IM-0233-1001.png\n",
      "-rw-r--r--. 1 jovyan users 150098 Feb 24 21:06 /home/jovyan/data/santosh-test/datasets/normal_pneumothorax/normal/CXR136_IM-0233-1002.png\n",
      "-rw-r--r--. 1 jovyan users 201914 Feb 24 21:06 /home/jovyan/data/santosh-test/datasets/normal_pneumothorax/normal/CXR138_IM-0244-1001.png\n",
      "-rw-r--r--. 1 jovyan users 192991 Feb 24 21:06 /home/jovyan/data/santosh-test/datasets/normal_pneumothorax/normal/CXR138_IM-0244-2001.png\n",
      "-rw-r--r--. 1 jovyan users 200040 Feb 24 21:06 /home/jovyan/data/santosh-test/datasets/normal_pneumothorax/normal/CXR13_IM-0198-2001.png\n",
      "-rw-r--r--. 1 jovyan users 203659 Feb 24 21:06 /home/jovyan/data/santosh-test/datasets/normal_pneumothorax/normal/CXR141_IM-0260-1001.png\n",
      "-rw-r--r--. 1 jovyan users 224341 Feb 24 21:06 /home/jovyan/data/santosh-test/datasets/normal_pneumothorax/normal/CXR141_IM-0260-2001.png\n",
      "-rw-r--r--. 1 jovyan users 184251 Feb 24 21:06 /home/jovyan/data/santosh-test/datasets/normal_pneumothorax/normal/CXR142_IM-0267-1001.png\n",
      "-rw-r--r--. 1 jovyan users 195233 Feb 24 21:06 /home/jovyan/data/santosh-test/datasets/normal_pneumothorax/normal/CXR142_IM-0267-2001.png\n",
      "-rw-r--r--. 1 jovyan users 167471 Feb 24 21:06 /home/jovyan/data/santosh-test/datasets/normal_pneumothorax/normal/CXR146_IM-0298-2001.png\n",
      "-rw-r--r--. 1 jovyan users 220822 Feb 24 21:06 /home/jovyan/data/santosh-test/datasets/normal_pneumothorax/normal/CXR147_IM-0303-1001.png\n",
      "-rw-r--r--. 1 jovyan users 199902 Feb 24 21:06 /home/jovyan/data/santosh-test/datasets/normal_pneumothorax/normal/CXR149_IM-0315-1001.png\n",
      "-rw-r--r--. 1 jovyan users 159480 Feb 24 21:06 /home/jovyan/data/santosh-test/datasets/normal_pneumothorax/normal/CXR149_IM-0315-1002.png\n",
      "-rw-r--r--. 1 jovyan users 195632 Feb 24 21:06 /home/jovyan/data/santosh-test/datasets/normal_pneumothorax/normal/CXR14_IM-0256-1001.png\n",
      "-rw-r--r--. 1 jovyan users 182236 Feb 24 21:06 /home/jovyan/data/santosh-test/datasets/normal_pneumothorax/normal/CXR151_IM-0331-1001.png\n",
      "-rw-r--r--. 1 jovyan users 154082 Feb 24 21:06 /home/jovyan/data/santosh-test/datasets/normal_pneumothorax/normal/CXR151_IM-0331-2001.png\n",
      "-rw-r--r--. 1 jovyan users 164897 Feb 24 21:06 /home/jovyan/data/santosh-test/datasets/normal_pneumothorax/normal/CXR152_IM-0335-1001.png\n",
      "-rw-r--r--. 1 jovyan users 200127 Feb 24 21:06 /home/jovyan/data/santosh-test/datasets/normal_pneumothorax/normal/CXR154_IM-0350-1001.png\n",
      "-rw-r--r--. 1 jovyan users 165072 Feb 24 21:06 /home/jovyan/data/santosh-test/datasets/normal_pneumothorax/normal/CXR154_IM-0350-2001.png\n",
      "-rw-r--r--. 1 jovyan users 177068 Feb 24 21:06 /home/jovyan/data/santosh-test/datasets/normal_pneumothorax/normal/CXR157_IM-0372-1001.png\n",
      "-rw-r--r--. 1 jovyan users 116910 Feb 24 21:06 /home/jovyan/data/santosh-test/datasets/normal_pneumothorax/normal/CXR158_IM-0377-1001.png\n",
      "-rw-r--r--. 1 jovyan users 142270 Feb 24 21:06 /home/jovyan/data/santosh-test/datasets/normal_pneumothorax/normal/CXR158_IM-0377-2001.png\n",
      "-rw-r--r--. 1 jovyan users 207412 Feb 24 21:06 /home/jovyan/data/santosh-test/datasets/normal_pneumothorax/normal/CXR159_IM-0382-1001.png\n",
      "-rw-r--r--. 1 jovyan users 160501 Feb 24 21:06 /home/jovyan/data/santosh-test/datasets/normal_pneumothorax/normal/CXR160_IM-0390-1001.png\n",
      "-rw-r--r--. 1 jovyan users 164390 Feb 24 21:06 /home/jovyan/data/santosh-test/datasets/normal_pneumothorax/normal/CXR160_IM-0390-2001.png\n",
      "-rw-r--r--. 1 jovyan users 199979 Feb 24 21:06 /home/jovyan/data/santosh-test/datasets/normal_pneumothorax/normal/CXR161_IM-0394-1001.png\n",
      "-rw-r--r--. 1 jovyan users 168394 Feb 24 21:06 /home/jovyan/data/santosh-test/datasets/normal_pneumothorax/normal/CXR161_IM-0394-2001.png\n",
      "-rw-r--r--. 1 jovyan users 145008 Feb 24 21:06 /home/jovyan/data/santosh-test/datasets/normal_pneumothorax/normal/CXR162_IM-0401-1001.png\n",
      "-rw-r--r--. 1 jovyan users 160035 Feb 24 21:06 /home/jovyan/data/santosh-test/datasets/normal_pneumothorax/normal/CXR162_IM-0401-2001.png\n",
      "-rw-r--r--. 1 jovyan users 138688 Feb 24 21:06 /home/jovyan/data/santosh-test/datasets/normal_pneumothorax/normal/CXR164_IM-0419-1001.png\n",
      "-rw-r--r--. 1 jovyan users 183182 Feb 24 21:06 /home/jovyan/data/santosh-test/datasets/normal_pneumothorax/normal/CXR164_IM-0419-2001.png\n",
      "-rw-r--r--. 1 jovyan users 215518 Feb 24 21:06 /home/jovyan/data/santosh-test/datasets/normal_pneumothorax/normal/CXR168_IM-0448-1001.png\n",
      "-rw-r--r--. 1 jovyan users 189807 Feb 24 21:06 /home/jovyan/data/santosh-test/datasets/normal_pneumothorax/normal/CXR168_IM-0448-1002.png\n"
     ]
    },
    {
     "data": {
      "text/html": [
       "<b>limit_output extension: Maximum message size of 10000 exceeded with 46901 characters</b>"
      ]
     },
     "metadata": {},
     "output_type": "display_data"
    }
   ],
   "source": [
    "!ls -lrt /home/jovyan/data/santosh-test/datasets/normal_pneumothorax/normal/*.png"
   ]
  },
  {
   "cell_type": "code",
   "execution_count": 199,
   "metadata": {
    "ExecuteTime": {
     "end_time": "2020-03-03T22:13:35.946023Z",
     "start_time": "2020-03-03T22:13:35.734841Z"
    }
   },
   "outputs": [
    {
     "name": "stdout",
     "output_type": "stream",
     "text": [
      "['/home/jovyan/data/santosh-test/datasets/normal_pneumothorax/normal/CXR100_IM-0002-1001.png', '/home/jovyan/data/santosh-test/datasets/normal_pneumothorax/normal/CXR100_IM-0002-2001.png', '/home/jovyan/data/santosh-test/datasets/normal_pneumothorax/normal/CXR106_IM-0042-1001.png', '/home/jovyan/data/santosh-test/datasets/normal_pneumothorax/normal/CXR106_IM-0042-2001.png', '/home/jovyan/data/santosh-test/datasets/normal_pneumothorax/normal/CXR107_IM-0049-1001.png', '/home/jovyan/data/santosh-test/datasets/normal_pneumothorax/normal/CXR107_IM-0049-2001.png', '/home/jovyan/data/santosh-test/datasets/normal_pneumothorax/normal/CXR10_IM-0002-1001.png', '/home/jovyan/data/santosh-test/datasets/normal_pneumothorax/normal/CXR10_IM-0002-2001.png', '/home/jovyan/data/santosh-test/datasets/normal_pneumothorax/normal/CXR110_IM-0067-1001.png', '/home/jovyan/data/santosh-test/datasets/normal_pneumothorax/normal/CXR110_IM-0067-2001.png', '/home/jovyan/data/santosh-test/datasets/normal_pneumothorax/normal/CXR111_IM-0076-1001.png', '/home/jovyan/data/santosh-test/datasets/normal_pneumothorax/normal/CXR114_IM-0096-1001.png', '/home/jovyan/data/santosh-test/datasets/normal_pneumothorax/normal/CXR114_IM-0096-2001.png', '/home/jovyan/data/santosh-test/datasets/normal_pneumothorax/normal/CXR115_IM-0102-1001.png', '/home/jovyan/data/santosh-test/datasets/normal_pneumothorax/normal/CXR115_IM-0102-2001.png', '/home/jovyan/data/santosh-test/datasets/normal_pneumothorax/normal/CXR116_IM-0107-1001.png', '/home/jovyan/data/santosh-test/datasets/normal_pneumothorax/normal/CXR116_IM-0107-2001.png', '/home/jovyan/data/santosh-test/datasets/normal_pneumothorax/normal/CXR117_IM-0114-2002.png', '/home/jovyan/data/santosh-test/datasets/normal_pneumothorax/normal/CXR117_IM-0114-3003.png', '/home/jovyan/data/santosh-test/datasets/normal_pneumothorax/normal/CXR119_IM-0128-1001.png', '/home/jovyan/data/santosh-test/datasets/normal_pneumothorax/normal/CXR11_IM-0067-1001.png', '/home/jovyan/data/santosh-test/datasets/normal_pneumothorax/normal/CXR11_IM-0067-2001.png', '/home/jovyan/data/santosh-test/datasets/normal_pneumothorax/normal/CXR120_IM-0133-1001.png', '/home/jovyan/data/santosh-test/datasets/normal_pneumothorax/normal/CXR120_IM-0133-2001.png', '/home/jovyan/data/santosh-test/datasets/normal_pneumothorax/normal/CXR121_IM-0142-1001.png', '/home/jovyan/data/santosh-test/datasets/normal_pneumothorax/normal/CXR121_IM-0142-2001.png', '/home/jovyan/data/santosh-test/datasets/normal_pneumothorax/normal/CXR127_IM-0181-1001.png', '/home/jovyan/data/santosh-test/datasets/normal_pneumothorax/normal/CXR129_IM-0189-1001.png', '/home/jovyan/data/santosh-test/datasets/normal_pneumothorax/normal/CXR129_IM-0189-2001.png', '/home/jovyan/data/santosh-test/datasets/normal_pneumothorax/normal/CXR12_IM-0133-1001.png', '/home/jovyan/data/santosh-test/datasets/normal_pneumothorax/normal/CXR12_IM-0133-2001.png', '/home/jovyan/data/santosh-test/datasets/normal_pneumothorax/normal/CXR130_IM-0198-2001.png', '/home/jovyan/data/santosh-test/datasets/normal_pneumothorax/normal/CXR131_IM-0202-1001.png', '/home/jovyan/data/santosh-test/datasets/normal_pneumothorax/normal/CXR131_IM-0202-2001.png', '/home/jovyan/data/santosh-test/datasets/normal_pneumothorax/normal/CXR133_IM-0212-1001.png', '/home/jovyan/data/santosh-test/datasets/normal_pneumothorax/normal/CXR133_IM-0212-2001.png', '/home/jovyan/data/santosh-test/datasets/normal_pneumothorax/normal/CXR133_IM-0212-3001.png', '/home/jovyan/data/santosh-test/datasets/normal_pneumothorax/normal/CXR135_IM-0227-1001.png', '/home/jovyan/data/santosh-test/datasets/normal_pneumothorax/normal/CXR135_IM-0227-3003.png', '/home/jovyan/data/santosh-test/datasets/normal_pneumothorax/normal/CXR136_IM-0233-1001.png', '/home/jovyan/data/santosh-test/datasets/normal_pneumothorax/normal/CXR136_IM-0233-1002.png', '/home/jovyan/data/santosh-test/datasets/normal_pneumothorax/normal/CXR138_IM-0244-1001.png', '/home/jovyan/data/santosh-test/datasets/normal_pneumothorax/normal/CXR138_IM-0244-2001.png', '/home/jovyan/data/santosh-test/datasets/normal_pneumothorax/normal/CXR13_IM-0198-2001.png', '/home/jovyan/data/santosh-test/datasets/normal_pneumothorax/normal/CXR141_IM-0260-1001.png', '/home/jovyan/data/santosh-test/datasets/normal_pneumothorax/normal/CXR141_IM-0260-2001.png', '/home/jovyan/data/santosh-test/datasets/normal_pneumothorax/normal/CXR142_IM-0267-1001.png', '/home/jovyan/data/santosh-test/datasets/normal_pneumothorax/normal/CXR142_IM-0267-2001.png', '/home/jovyan/data/santosh-test/datasets/normal_pneumothorax/normal/CXR146_IM-0298-2001.png', '/home/jovyan/data/santosh-test/datasets/normal_pneumothorax/normal/CXR147_IM-0303-1001.png', '/home/jovyan/data/santosh-test/datasets/normal_pneumothorax/normal/CXR149_IM-0315-1001.png', '/home/jovyan/data/santosh-test/datasets/normal_pneumothorax/normal/CXR149_IM-0315-1002.png', '/home/jovyan/data/santosh-test/datasets/normal_pneumothorax/normal/CXR14_IM-0256-1001.png', '/home/jovyan/data/santosh-test/datasets/normal_pneumothorax/normal/CXR151_IM-0331-1001.png', '/home/jovyan/data/santosh-test/datasets/normal_pneumothorax/normal/CXR151_IM-0331-2001.png', '/home/jovyan/data/santosh-test/datasets/normal_pneumothorax/normal/CXR152_IM-0335-1001.png', '/home/jovyan/data/santosh-test/datasets/normal_pneumothorax/normal/CXR154_IM-0350-1001.png', '/home/jovyan/data/santosh-test/datasets/normal_pneumothorax/normal/CXR154_IM-0350-2001.png', '/home/jovyan/data/santosh-test/datasets/normal_pneumothorax/normal/CXR157_IM-0372-1001.png', '/home/jovyan/data/santosh-test/datasets/normal_pneumothorax/normal/CXR158_IM-0377-1001.png', '/home/jovyan/data/santosh-test/datasets/normal_pneumothorax/normal/CXR158_IM-0377-2001.png', '/home/jovyan/data/santosh-test/datasets/normal_pneumothorax/normal/CXR159_IM-0382-1001.png', '/home/jovyan/data/santosh-test/datasets/normal_pneumothorax/normal/CXR160_IM-0390-1001.png', '/home/jovyan/data/santosh-test/datasets/normal_pneumothorax/normal/CXR160_IM-0390-2001.png', '/home/jovyan/data/santosh-test/datasets/normal_pneumothorax/normal/CXR161_IM-0394-1001.png', '/home/jovyan/data/santosh-test/datasets/normal_pneumothorax/normal/CXR161_IM-0394-2001.png', '/home/jovyan/data/santosh-test/datasets/normal_pneumothorax/normal/CXR162_IM-0401-1001.png', '/home/jovyan/data/santosh-test/datasets/normal_pneumothorax/normal/CXR162_IM-0401-2001.png', '/home/jovyan/data/santosh-test/datasets/normal_pneumothorax/normal/CXR164_IM-0419-1001.png', '/home/jovyan/data/santosh-test/datasets/normal_pneumothorax/normal/CXR164_IM-0419-2001.png', '/home/jovyan/data/santosh-test/datasets/normal_pneumothorax/normal/CXR168_IM-0448-1001.png', '/home/jovyan/data/santosh-test/datasets/normal_pneumothorax/normal/CXR168_IM-0448-1002.png', '/home/jovyan/data/santosh-test/datasets/normal_pneumothorax/normal/CXR169_IM-0452-1001.png', '/home/jovyan/data/santosh-test/datasets/normal_pneumothorax/normal/CXR169_IM-0452-2001.png', '/home/jovyan/data/santosh-test/datasets/normal_pneumothorax/normal/CXR16_IM-0389-1001.png', '/home/jovyan/data/santosh-test/datasets/normal_pneumothorax/normal/CXR16_IM-0389-2001.png', '/home/jovyan/data/santosh-test/datasets/normal_pneumothorax/normal/CXR171_IM-0468-1001.png', '/home/jovyan/data/santosh-test/datasets/normal_pneumothorax/normal/CXR171_IM-0468-3003.png', '/home/jovyan/data/santosh-test/datasets/normal_pneumothorax/normal/CXR172_IM-0474-1001.png', '/home/jovyan/data/santosh-test/datasets/normal_pneumothorax/normal/CXR172_IM-0474-1002.png', '/home/jovyan/data/santosh-test/datasets/normal_pneumothorax/normal/CXR176_IM-0496-1001.png', '/home/jovyan/data/santosh-test/datasets/normal_pneumothorax/normal/CXR176_IM-0496-2001.png', '/home/jovyan/data/santosh-test/datasets/normal_pneumothorax/normal/CXR178_IM-0509-2001.png', '/home/jovyan/data/santosh-test/datasets/normal_pneumothorax/normal/CXR17_IM-0460-1001.png', '/home/jovyan/data/santosh-test/datasets/normal_pneumothorax/normal/CXR17_IM-0460-2001.png', '/home/jovyan/data/santosh-test/datasets/normal_pneumothorax/normal/CXR181_IM-0524-1001.png', '/home/jovyan/data/santosh-test/datasets/normal_pneumothorax/normal/CXR186_IM-0558-1001.png', '/home/jovyan/data/santosh-test/datasets/normal_pneumothorax/normal/CXR186_IM-0558-2001.png', '/home/jovyan/data/santosh-test/datasets/normal_pneumothorax/normal/CXR188_IM-0569-1001.png', '/home/jovyan/data/santosh-test/datasets/normal_pneumothorax/normal/CXR188_IM-0569-1002.png', '/home/jovyan/data/santosh-test/datasets/normal_pneumothorax/normal/CXR190_IM-0583-1001.png', '/home/jovyan/data/santosh-test/datasets/normal_pneumothorax/normal/CXR190_IM-0583-3001.png', '/home/jovyan/data/santosh-test/datasets/normal_pneumothorax/normal/CXR191_IM-0591-1001.png', '/home/jovyan/data/santosh-test/datasets/normal_pneumothorax/normal/CXR191_IM-0591-2001.png', '/home/jovyan/data/santosh-test/datasets/normal_pneumothorax/normal/CXR192_IM-0598-1001.png', '/home/jovyan/data/santosh-test/datasets/normal_pneumothorax/normal/CXR192_IM-0598-1002.png', '/home/jovyan/data/santosh-test/datasets/normal_pneumothorax/normal/CXR195_IM-0618-1001.png', '/home/jovyan/data/santosh-test/datasets/normal_pneumothorax/normal/CXR195_IM-0618-1002.png', '/home/jovyan/data/santosh-test/datasets/normal_pneumothorax/normal/CXR196_IM-0626-1001.png', '/home/jovyan/data/santosh-test/datasets/normal_pneumothorax/normal/CXR19_IM-0583-1001.png', '/home/jovyan/data/santosh-test/datasets/normal_pneumothorax/normal/CXR1_1_IM-0001-3001.png', '/home/jovyan/data/santosh-test/datasets/normal_pneumothorax/normal/CXR1_1_IM-0001-4001.png', '/home/jovyan/data/santosh-test/datasets/normal_pneumothorax/normal/CXR200_IM-0653-1001.png', '/home/jovyan/data/santosh-test/datasets/normal_pneumothorax/normal/CXR200_IM-0653-2002.png', '/home/jovyan/data/santosh-test/datasets/normal_pneumothorax/normal/CXR203_IM-0675-1001.png', '/home/jovyan/data/santosh-test/datasets/normal_pneumothorax/normal/CXR204_IM-0683-1001.png', '/home/jovyan/data/santosh-test/datasets/normal_"
     ]
    },
    {
     "data": {
      "text/html": [
       "<b>limit_output extension: Maximum message size of 10000 exceeded with 31692 characters</b>"
      ]
     },
     "metadata": {},
     "output_type": "display_data"
    }
   ],
   "source": [
    "print(glob.glob(\"/home/jovyan/data/santosh-test/datasets/normal_pneumothorax/normal/*.png\"))"
   ]
  },
  {
   "cell_type": "code",
   "execution_count": null,
   "metadata": {},
   "outputs": [],
   "source": [
    "%templatefile components/serving/templates/seldon.yaml -o seldon.yaml\n",
    "!kubectl apply -f seldon.yaml --wait\n",
    "!kubectl get -f seldon.yaml -o jsonpath='{.status.state}'"
   ]
  },
  {
   "cell_type": "markdown",
   "metadata": {},
   "source": [
    "### Validate\n",
    "\n",
    "It can take few minutes while a seldon applicaiton will be deployed. Once it will be deployed. Then we can send a test prediction\n",
    "\n",
    "Test model serving by accessing seldon api server. Because Seldon API server provides an oauth, we need to receive a temporrary bearer token. We can receive this token by providing oauth key and secret that has been used in our `SeldonDeployment`"
   ]
  },
  {
   "cell_type": "code",
   "execution_count": null,
   "metadata": {
    "code_folding": []
   },
   "outputs": [],
   "source": [
    "from IPython.display import Code\n",
    "import nbextensions.seldon as seldon\n",
    "\n",
    "test_payload = {\n",
    "    \"data\":{\"ndarray\": [[\"try to stop flask from using multiple threads\"]]},\n",
    "}\n",
    "                         \n",
    "t = seldon.get_token(\n",
    "    server=SELDON_APISERVER_ADDR,\n",
    "    oauth_key=SELDON_OAUTH_KEY,\n",
    "    oauth_secret=SELDON_OAUTH_SECRET,\n",
    ")\n",
    "result = seldon.prediction(\n",
    "    server=SELDON_APISERVER_ADDR,\n",
    "    payload=test_payload,\n",
    "    token=t,\n",
    ")\n",
    "if result.get('status') == 'FAILURE':\n",
    "    print(\"Error connecting to seldon core.\", \n",
    "          \"This may happen when Seldon has not been up and running yet.\",\n",
    "          \"Try again later\")\n",
    "    display(Code(f\"{result.get('reason')}: {result.get('info')}\"))\n",
    "else:\n",
    "    display(\n",
    "        pd.DataFrame.from_dict({\n",
    "            'test': test_payload['data']['ndarray'][0],\n",
    "            'prediction': result['data']['ndarray'][0],\n",
    "    }))\n"
   ]
  },
  {
   "cell_type": "markdown",
   "metadata": {},
   "source": [
    "## Deploy a client application\n",
    "\n",
    "This section will be focused on application deployment routines.\n",
    "- `FLASK_APP`: name of the kubernetes deployment associated with the applicaiton\n",
    "- `FLASK_REPLICAS`: number of replicas for application deployment pod\n",
    "- `GITHUB_TOKEN`: Github Token to access Github API. This will help application to fetch a random github issue"
   ]
  },
  {
   "cell_type": "code",
   "execution_count": null,
   "metadata": {},
   "outputs": [],
   "source": [
    "FLASK_APP=APPLICATION_NAME\n",
    "FLASK_REPLICAS = 1\n",
    "GITHUB_TOKEN=get_secret('github_token')"
   ]
  },
  {
   "cell_type": "markdown",
   "metadata": {},
   "source": [
    "### Building an application container\n",
    "\n",
    "User application has been implemented inside [app.py](components/flaskapp/src/app.py). We bake this applicaiton inside of docker container and deploy it further"
   ]
  },
  {
   "cell_type": "code",
   "execution_count": null,
   "metadata": {},
   "outputs": [],
   "source": [
    "%%template components/flaskapp/Dockerfile -v\n",
    "FROM {{TRAINING_IMAGE}}\n",
    "RUN pip3 install --no-cache-dir -U 'flask>=0.12.3'\n",
    "COPY src/ /app\n",
    "WORKDIR /app\n",
    "ENTRYPOINT [\"python\",\"-u\",\"app.py\"]"
   ]
  },
  {
   "cell_type": "code",
   "execution_count": null,
   "metadata": {},
   "outputs": [],
   "source": [
    "upload_to_s3(\n",
    "    destination=f\"s3://{BUCKET_NAME}/{BUILD_CONTEXT}\",\n",
    "    ignorefile='components/kaniko/ignorefile.txt',\n",
    "    workspace='.',\n",
    "    s3_client=s3,\n",
    ")\n",
    "\n",
    "run = client.run_pipeline(\n",
    "    exp.id, f'Build image: application:{TAG}', 'argo-kaniko.yaml', \n",
    "    params={\n",
    "      'image': FLASK_APP_IMAGE,\n",
    "      'context': f\"{MOUNT_PATH}/{BUILD_CONTEXT}/components/flaskapp\"\n",
    "    }\n",
    ")"
   ]
  },
  {
   "cell_type": "code",
   "execution_count": null,
   "metadata": {},
   "outputs": [],
   "source": [
    "%%time\n",
    "# block until job completion\n",
    "print(f\"Waiting for run: {run.id}...\")\n",
    "result = client.wait_for_run_completion(run.id, timeout=720).run.status\n",
    "print(f\"Finished with: {result}\")"
   ]
  },
  {
   "cell_type": "markdown",
   "metadata": {},
   "source": [
    "### Deploy a web application\n",
    "\n",
    "Client web application is a simple Python [flask](http://flask.pocoo.org) application. Deployment manifest can be defined via kubernetes deployment template file [link](components/flaskapp/templates/application.yaml). We render this template with current notebook global variables and then use `kubectl` to deploy.\n",
    "\n",
    "For web access application deployment will use an Ambassador http router, which is part of Kubeflow stack"
   ]
  },
  {
   "cell_type": "code",
   "execution_count": null,
   "metadata": {},
   "outputs": [],
   "source": [
    "%templatefile components/flaskapp/templates/application.yaml -o application.yaml\n",
    "!kubectl apply -f application.yaml --wait\n",
    "\n",
    "from IPython.display import Markdown, HTML\n",
    "display(HTML(f'Application can be accessible <a href=\"/{FLASK_APP}/\" target=\"_blank\">here</a>'))"
   ]
  },
  {
   "cell_type": "markdown",
   "metadata": {},
   "source": [
    "## Tear down\n",
    "\n",
    "Uppon completion, let's tear everything down"
   ]
  },
  {
   "cell_type": "code",
   "execution_count": null,
   "metadata": {},
   "outputs": [],
   "source": [
    "# !kubectl delete -f seldon.yaml\n",
    "!kubectl delete -f application.yaml"
   ]
  }
 ],
 "metadata": {
  "kernelspec": {
   "display_name": "Python 3",
   "language": "python",
   "name": "python3"
  },
  "language_info": {
   "codemirror_mode": {
    "name": "ipython",
    "version": 3
   },
   "file_extension": ".py",
   "mimetype": "text/x-python",
   "name": "python",
   "nbconvert_exporter": "python",
   "pygments_lexer": "ipython3",
   "version": "3.6.7"
  },
  "toc": {
   "base_numbering": 1,
   "nav_menu": {},
   "number_sections": true,
   "sideBar": true,
   "skip_h1_title": true,
   "title_cell": "Table of Contents",
   "title_sidebar": "Contents",
   "toc_cell": false,
   "toc_position": {
    "height": "calc(100% - 180px)",
    "left": "10px",
    "top": "150px",
    "width": "336px"
   },
   "toc_section_display": true,
   "toc_window_display": true
  },
  "varInspector": {
   "cols": {
    "lenName": 16,
    "lenType": 16,
    "lenVar": 40
   },
   "kernels_config": {
    "python": {
     "delete_cmd_postfix": "",
     "delete_cmd_prefix": "del ",
     "library": "var_list.py",
     "varRefreshCmd": "print(var_dic_list())"
    },
    "r": {
     "delete_cmd_postfix": ") ",
     "delete_cmd_prefix": "rm(",
     "library": "var_list.r",
     "varRefreshCmd": "cat(var_dic_list()) "
    }
   },
   "oldHeight": 201,
   "position": {
    "height": "223px",
    "left": "1208px",
    "right": "20px",
    "top": "262px",
    "width": "400px"
   },
   "types_to_exclude": [
    "module",
    "function",
    "builtin_function_or_method",
    "instance",
    "_Feature"
   ],
   "varInspector_section_display": "block",
   "window_display": false
  }
 },
 "nbformat": 4,
 "nbformat_minor": 2
}
