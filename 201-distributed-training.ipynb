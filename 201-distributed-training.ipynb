{
 "cells": [
  {
   "cell_type": "markdown",
   "metadata": {},
   "source": [
    "# End to end experiment: EfficientNet Image Classification\n",
    "\n",
    "In this notebook, we will show how to:\n",
    "\n",
    "* Interactively define a KubeFlow Pipeline using the Pipelines Python SDK\n",
    "* Implement transfer learning with EfficientNet in Keras\n",
    "* Submit and run the pipeline\n",
    "* Add a step in the pipeline\n",
    "\n",
    "This example pipeline trains a [EfficientNet](https://github.com/SemanticMD/efficientnet_keras_transfer_learning) model on medical X-ray image data, learning to classify new object categories. It then exports the trained model and deploys the exported model to [Seldon Core](https://github.com/SeldonIO/seldon-core). \n",
    "The final step in the pipeline launches a web app which interacts with the EfficientNet model via REST API in order to get model predictions."
   ]
  },
  {
   "cell_type": "markdown",
   "metadata": {},
   "source": [
    "## Enviroinment Setup\n",
    "\n",
    "Before any experiment can be conducted. We need to setup and initialize an environment: ensure all Python modules has been setup and configured, as well as python modules\n",
    "\n",
    "### Imports\n",
    "Setting up python modules"
   ]
  },
  {
   "cell_type": "code",
   "execution_count": 340,
   "metadata": {
    "ExecuteTime": {
     "end_time": "2020-03-16T19:08:48.262997Z",
     "start_time": "2020-03-16T19:08:47.340569Z"
    },
    "scrolled": true
   },
   "outputs": [
    {
     "data": {
      "text/markdown": [
       "Loading notebook variables from configmap: `kubeflow/efficientnet1-nb-vars`"
      ],
      "text/plain": [
       "<IPython.core.display.Markdown object>"
      ]
     },
     "metadata": {},
     "output_type": "display_data"
    },
    {
     "data": {
      "text/markdown": [
       "All notebook variables has been already loaded"
      ],
      "text/plain": [
       "<IPython.core.display.Markdown object>"
      ]
     },
     "metadata": {},
     "output_type": "display_data"
    }
   ],
   "source": [
    "%reload_ext autoreload\n",
    "%autoreload 2\n",
    "\n",
    "%reload_ext nbextensions\n",
    "%load_nbvars\n",
    "\n",
    "import kfp.dsl as dsl\n",
    "import kfp.gcp as gcp\n",
    "import pandas as pd\n",
    "from ipython_secrets import get_secret\n",
    "from kfp.compiler import Compiler\n",
    "from kfp.components import load_component_from_file\n",
    "from os import environ\n",
    "import boto3, kfp\n",
    "\n",
    "from nbextensions.pv import use_pvc\n",
    "from nbextensions.kubernetes import dockerjson_pv\n",
    "from nbextensions.aws import upload_to_s3\n",
    "\n",
    "import nbextensions.utils as utils\n",
    "from datetime import datetime\n",
    "from urllib.parse import urlparse\n",
    "\n",
    "import warnings\n",
    "warnings.filterwarnings('ignore')"
   ]
  },
  {
   "cell_type": "code",
   "execution_count": null,
   "metadata": {
    "ExecuteTime": {
     "end_time": "2020-03-16T19:08:49.170487Z",
     "start_time": "2020-03-16T19:08:48.829Z"
    }
   },
   "outputs": [],
   "source": [
    "!pip install pixiedust"
   ]
  },
  {
   "cell_type": "code",
   "execution_count": 341,
   "metadata": {
    "ExecuteTime": {
     "end_time": "2020-03-16T19:08:50.303901Z",
     "start_time": "2020-03-16T19:08:49.500789Z"
    }
   },
   "outputs": [],
   "source": [
    "import pixiedust"
   ]
  },
  {
   "cell_type": "markdown",
   "metadata": {},
   "source": [
    "### Define global variables\n",
    "\n",
    "Initialize global namespace variables. It is a good practice to place all global namespace variables in one cell. So, the notebook could be configured all-at-once. \n",
    "\n",
    "To enhance readability we would advice to capitalize such variables.\n",
    "\n",
    "NOTE: Use TAG variable to force a rebuild of container images, as a workaround for caching issues."
   ]
  },
  {
   "cell_type": "code",
   "execution_count": 342,
   "metadata": {
    "ExecuteTime": {
     "end_time": "2020-03-16T19:08:52.434988Z",
     "start_time": "2020-03-16T19:08:51.525402Z"
    },
    "code_folding": [],
    "run_control": {
     "marked": true
    }
   },
   "outputs": [],
   "source": [
    "USER = environ.get('NB_USER', 'John Doe')\n",
    "# TAG = 'latest'\n",
    "TAG = 'v31'\n",
    "\n",
    "BUILD_CONTEXT = f\"{TAG}/buildcontext\"\n",
    "TRAINING_IMAGE = f\"{DOCKER_REGISTRY}/training:{TAG}\"\n",
    "SERVING_IMAGE = f\"{DOCKER_REGISTRY}/seldon:{TAG}\"\n",
    "FLASK_APP_IMAGE = f\"{DOCKER_REGISTRY}/flask:{TAG}\"\n",
    "TRAINING_ROOT = f\"{MOUNT_PATH}/{TAG}/training\"\n",
    "\n",
    "s3 = boto3.session.Session().client('s3', endpoint_url=BUCKET_ENDPOINT)\n",
    "\n",
    "client = kfp.Client()\n",
    "try:\n",
    "    exp = client.get_experiment(experiment_name=APPLICATION_NAME)\n",
    "except:\n",
    "    exp = client.create_experiment(APPLICATION_NAME)"
   ]
  },
  {
   "cell_type": "code",
   "execution_count": null,
   "metadata": {
    "ExecuteTime": {
     "end_time": "2020-03-16T19:08:53.335456Z",
     "start_time": "2020-03-16T19:08:53.044Z"
    }
   },
   "outputs": [],
   "source": [
    "APPLICATION_NAME"
   ]
  },
  {
   "cell_type": "code",
   "execution_count": 352,
   "metadata": {
    "ExecuteTime": {
     "end_time": "2020-03-16T19:33:01.330713Z",
     "start_time": "2020-03-16T19:33:00.677872Z"
    }
   },
   "outputs": [
    {
     "data": {
      "text/plain": [
       "{'created_at': datetime.datetime(2020, 3, 7, 1, 46, 49, tzinfo=tzlocal()),\n",
       " 'default_version': None,\n",
       " 'description': None,\n",
       " 'error': None,\n",
       " 'id': '75fdc7c1-1b49-4a8c-ac96-13b5af4a1364',\n",
       " 'name': 'Efficientnet Training Example',\n",
       " 'parameters': [{'name': 'datasetDir', 'value': None},\n",
       "                {'name': 'datasetName', 'value': None},\n",
       "                {'name': 'labels', 'value': None},\n",
       "                {'name': 'remoteMinioServer', 'value': None},\n",
       "                {'name': 'accessKey', 'value': None},\n",
       "                {'name': 'secretKey', 'value': None},\n",
       "                {'name': 'batchSize', 'value': None},\n",
       "                {'name': 'width', 'value': None},\n",
       "                {'name': 'height', 'value': None},\n",
       "                {'name': 'epochs', 'value': None},\n",
       "                {'name': 'dropoutRate', 'value': None},\n",
       "                {'name': 'learningRate', 'value': None},\n",
       "                {'name': 'trainInput', 'value': None},\n",
       "                {'name': 'modelVersion', 'value': None},\n",
       "                {'name': 'modelDir', 'value': None},\n",
       "                {'name': 'modelFname', 'value': None}],\n",
       " 'url': None}"
      ]
     },
     "execution_count": 352,
     "metadata": {},
     "output_type": "execute_result"
    }
   ],
   "source": [
    "# Get id from API https://kubeflow.svc.ml1.demo51.superhub.io/pipeline/apis/v1beta1/pipelines\n",
    "client.get_pipeline('75fdc7c1-1b49-4a8c-ac96-13b5af4a1364')"
   ]
  },
  {
   "cell_type": "code",
   "execution_count": 343,
   "metadata": {
    "ExecuteTime": {
     "end_time": "2020-03-16T19:08:54.449252Z",
     "start_time": "2020-03-16T19:08:53.617558Z"
    }
   },
   "outputs": [
    {
     "data": {
      "text/plain": [
       "{'created_at': datetime.datetime(2020, 2, 24, 17, 49, 42, tzinfo=tzlocal()),\n",
       " 'description': None,\n",
       " 'id': 'eeb9cfba-df3a-4687-b8af-a305d0ba43dc',\n",
       " 'name': 'efficientnet1'}"
      ]
     },
     "execution_count": 343,
     "metadata": {},
     "output_type": "execute_result"
    }
   ],
   "source": [
    "exp"
   ]
  },
  {
   "cell_type": "code",
   "execution_count": null,
   "metadata": {
    "ExecuteTime": {
     "end_time": "2020-03-16T19:08:55.411352Z",
     "start_time": "2020-03-16T19:08:54.240Z"
    }
   },
   "outputs": [],
   "source": [
    "exp.id + ' ' + exp.name"
   ]
  },
  {
   "cell_type": "markdown",
   "metadata": {},
   "source": [
    "### Define variables for experiment\n",
    "In the beginning of the scrip we define all necessary variables. We have a single cell to define all experiment configuration in one place."
   ]
  },
  {
   "cell_type": "code",
   "execution_count": null,
   "metadata": {
    "ExecuteTime": {
     "end_time": "2020-03-16T19:08:55.413652Z",
     "start_time": "2020-03-16T19:08:55.333Z"
    }
   },
   "outputs": [],
   "source": [
    "from sklearn.model_selection import train_test_split\n",
    "from tensorflow.keras.preprocessing.image import ImageDataGenerator\n",
    "from tensorflow.keras import models, layers, optimizers\n",
    "from tensorflow.keras.utils import get_custom_objects\n",
    "from tensorflow.keras.models import load_model\n",
    "from tensorflow.keras.callbacks import TensorBoard\n",
    "\n",
    "#from minio import Minio\n",
    "#from minio.error import ResponseError\n",
    "\n",
    "# Options: EfficientNetB0, EfficientNetB1, EfficientNetB2, EfficientNetB3\n",
    "# Higher the number, the more complex the model is.\n",
    "from efficientnet import EfficientNetB0 as Net\n",
    "from efficientnet import center_crop_and_resize, preprocess_input\n",
    "from efficientnet.layers import Swish, DropConnect\n",
    "from efficientnet.model import ConvKernalInitializer"
   ]
  },
  {
   "cell_type": "code",
   "execution_count": null,
   "metadata": {
    "ExecuteTime": {
     "end_time": "2020-03-16T19:08:56.393764Z",
     "start_time": "2020-03-16T19:08:56.029Z"
    }
   },
   "outputs": [],
   "source": [
    "## Globals\n",
    "REMOTE_MINIO_SERVER = get_secret('REMOTE_MINIO_SERVER')\n",
    "ACCESS_KEY = get_secret('ACCESS_KEY')\n",
    "SECRET_KEY = get_secret('SECRET_KEY')\n",
    "ARTIFACTS_ROOT = f\"{MOUNT_PATH}\"\n",
    "#ARTIFACTS_ROOT = '/home/jovyan/data'\n",
    "BASEDIR = f\"{ARTIFACTS_ROOT}/santosh-test\"\n",
    "DATASET_DIR = os.path.join(BASEDIR, 'datasets')\n",
    "\n",
    "FILETYPES = ('*.jpg', '*.jpeg', '*.png')\n",
    "MODEL_VERSION='1'\n",
    "MODEL_FNAME='pneumothorax_'  + datetime.now().strftime(\"%m_%d_%S\") + '.h5'\n",
    "DATASET_NAME='normal_pneumothorax'\n",
    "LABELS='normal,pneumothorax'"
   ]
  },
  {
   "cell_type": "code",
   "execution_count": 344,
   "metadata": {
    "ExecuteTime": {
     "end_time": "2020-03-16T19:08:57.881072Z",
     "start_time": "2020-03-16T19:08:57.049500Z"
    },
    "pixiedust": {
     "displayParams": {}
    }
   },
   "outputs": [
    {
     "name": "stdout",
     "output_type": "stream",
     "text": [
      "aws key_id:admin secret: Minio12345\n",
      "ext key_id:admin secret: deeplearning\n"
     ]
    }
   ],
   "source": [
    "#%%pixie_debugger\n",
    "aws_access_key_id=get_secret('aws_access_key_id')\n",
    "aws_secret_access_key=get_secret('aws_secret_access_key')\n",
    "print (f\"aws key_id:{aws_access_key_id} secret: {aws_secret_access_key}\")\n",
    "ext_access_key_id=get_secret('ext_access_key_id')\n",
    "ext_secret_access_key=get_secret('ext_secret_access_key')\n",
    "print (f\"ext key_id:{ext_access_key_id} secret: {ext_secret_access_key}\")\n",
    "\n"
   ]
  },
  {
   "cell_type": "code",
   "execution_count": null,
   "metadata": {
    "ExecuteTime": {
     "end_time": "2020-03-16T19:08:59.072023Z",
     "start_time": "2020-03-16T19:08:58.492Z"
    }
   },
   "outputs": [],
   "source": [
    "ARTIFACTS_ROOT = f\"{MOUNT_PATH}\"\n",
    "TEST_IMAGE_FILE = f\"{ARTIFACTS_ROOT}/panda.jpg\"\n",
    "MODEL_FILE = f\"{MOUNT_PATH}/models/{MODEL_VERSION}/{MODEL_FNAME}\"\n",
    "MODEL_DIR = f\"{MOUNT_PATH}/models/\""
   ]
  },
  {
   "cell_type": "code",
   "execution_count": 345,
   "metadata": {
    "ExecuteTime": {
     "end_time": "2020-03-16T19:09:00.384284Z",
     "start_time": "2020-03-16T19:08:59.618932Z"
    }
   },
   "outputs": [
    {
     "data": {
      "text/plain": [
       "'/mnt/s3'"
      ]
     },
     "execution_count": 345,
     "metadata": {},
     "output_type": "execute_result"
    }
   ],
   "source": [
    "MOUNT_PATH"
   ]
  },
  {
   "cell_type": "code",
   "execution_count": null,
   "metadata": {
    "ExecuteTime": {
     "end_time": "2020-03-16T19:09:01.298765Z",
     "start_time": "2020-03-16T19:09:00.159Z"
    }
   },
   "outputs": [],
   "source": [
    "print (f\"Local dataset: {DATASET_DIR}\")\n",
    "print (f\"Remote dataset: REMOTE_MINIO_SERVER {REMOTE_MINIO_SERVER}\")\n",
    "print (f\"Test image: {TEST_IMAGE_FILE}\")\n",
    "print (f\"Model file: {MODEL_FILE}\")"
   ]
  },
  {
   "cell_type": "markdown",
   "metadata": {},
   "source": [
    "### Define build docker image pipeline\n",
    "\n",
    "Define build pipeline. Yes, we arguably using KFP to build images  that will be de-facto used by final pipeline.\n",
    "\n",
    "We use [Kaniko](https://github.com/GoogleContainerTools/kaniko) and Kubernetes to handle build operations. Build status can be tracked via KFP pipeline dashboard\n",
    "\n",
    "In fact build image job can be even combined with primary pipeline as physically it will be different Kubernetes pods. However for sake of general purpose efficiency we schedule build process via separate pipeline step"
   ]
  },
  {
   "cell_type": "code",
   "execution_count": 332,
   "metadata": {
    "ExecuteTime": {
     "end_time": "2020-03-14T18:00:02.988739Z",
     "start_time": "2020-03-14T18:00:02.404047Z"
    }
   },
   "outputs": [],
   "source": [
    "kaniko_op = load_component_from_file('components/kaniko/deploy.yaml')\n",
    "\n",
    "@dsl.pipeline(\n",
    "  name='Pipeline images',\n",
    "  description='Build images that will be used by the pipeline'\n",
    ")\n",
    "def build_image(\n",
    "        image, \n",
    "        context=None, \n",
    "        dockerfile: dsl.PipelineParam=dsl.PipelineParam(name='dockerfile', value='Dockerfile')):\n",
    "    dockerjson = dockerjson_pv(pull_secret=DOCKER_REGISTRY_PULL_SECRET)\n",
    "    kaniko_op(\n",
    "        image=image,\n",
    "        dockerfile=dockerfile,\n",
    "        context=context\n",
    "    ).add_pvolumes({\n",
    "        '/mnt/s3': dsl.PipelineVolume(pvc=BUCKET_PVC),\n",
    "        '/kaniko/.docker': dsl.PipelineVolume(volume=dockerjson),\n",
    "    })\n",
    "        \n",
    "Compiler().compile(build_image, 'argo-kaniko.yaml')\n",
    "utils.patch_pvolumes('argo-kaniko.yaml')"
   ]
  },
  {
   "cell_type": "markdown",
   "metadata": {},
   "source": [
    "Compiler transforms Python DSL into an [Argo Workflow](https://argoproj.github.io/docs/argo/readme.html). And stores generated artifacts in [`.kaniko.tar.gz`](.kaniko.tar.gz). So it could be executed multiple times. Perhaps with different parameters"
   ]
  },
  {
   "cell_type": "markdown",
   "metadata": {},
   "source": [
    "## Distributed Training\n",
    "Training is an integral part of our experiment. Distributed training means that it will be executed outside of a Jupyter Notebook and utilize maximum capacity of the current cluster. To achieve this we need to perform following actions:\n",
    "* Build a docker image for training\n",
    "* Define a training pipeline\n",
    "* Run the experiment\n",
    "\n",
    "### Building a training image\n",
    "Once pipeline has been defined we can reuse it multiple times by supplying different input parameters.\n",
    "\n",
    "Next section will upload all files to s3, to share access with the pipeline. Files that should be ignored can be customized in [kanikoignore.txt](./kanikoignore.txt). To understand upload scenario you can review and modify: [aws.py](./extensions/kaniko/aws.py)"
   ]
  },
  {
   "cell_type": "code",
   "execution_count": 333,
   "metadata": {
    "ExecuteTime": {
     "end_time": "2020-03-14T18:00:07.587382Z",
     "start_time": "2020-03-14T18:00:06.221264Z"
    }
   },
   "outputs": [
    {
     "data": {
      "text/html": [
       "Uploaded <a href=\"https://ml1-minio.app.ml1.demo51.superhub.io/minio/default/v31/buildcontext/\" target=\"_blank\" >\"78 files\"</a>; transferred: 128.71 KB; skipped: 1 file (<a href=\"run_local.py\">run_local.py</a>)"
      ],
      "text/plain": [
       "<IPython.core.display.HTML object>"
      ]
     },
     "metadata": {},
     "output_type": "display_data"
    },
    {
     "data": {
      "text/html": [
       "Run link <a href=\"/pipeline/#/runs/details/a3c1368f-661d-11ea-af48-128cedd35b9f\" target=\"_blank\" >here</a>"
      ],
      "text/plain": [
       "<IPython.core.display.HTML object>"
      ]
     },
     "metadata": {},
     "output_type": "display_data"
    }
   ],
   "source": [
    "upload_to_s3(\n",
    "    destination=f\"s3://{BUCKET_NAME}/{BUILD_CONTEXT}\",\n",
    "    ignorefile='components/kaniko/ignorefile.txt',\n",
    "    workspace='.',\n",
    "    s3_client=s3\n",
    ")\n",
    "\n",
    "run = client.run_pipeline(\n",
    "    exp.id, f'Build image: training:{TAG}', 'argo-kaniko.yaml', \n",
    "    params={\n",
    "        'image': TRAINING_IMAGE,\n",
    "        'context': f\"{MOUNT_PATH}/{BUILD_CONTEXT}/components/training\"\n",
    "    })"
   ]
  },
  {
   "cell_type": "markdown",
   "metadata": {},
   "source": [
    "Build process may take more than 12 minutes, becaause Docker images used for machine learning can be very large. If your imeages are very large, you may need to increase the `timeout` parameter"
   ]
  },
  {
   "cell_type": "code",
   "execution_count": 76,
   "metadata": {
    "ExecuteTime": {
     "end_time": "2020-03-11T01:57:25.701330Z",
     "start_time": "2020-03-11T01:48:28.477351Z"
    }
   },
   "outputs": [
    {
     "name": "stdout",
     "output_type": "stream",
     "text": [
      "Waiting for run: 662d1cd5-633a-11ea-a77e-1294c09e5afb...\n",
      "Finished with: Succeeded\n",
      "CPU times: user 578 ms, sys: 9.77 ms, total: 588 ms\n",
      "Wall time: 8min 56s\n"
     ]
    }
   ],
   "source": [
    "%%time\n",
    "# block until job completion\n",
    "print(f\"Waiting for run: {run.id}...\")\n",
    "result = client.wait_for_run_completion(run.id, timeout=720).run.status\n",
    "print(f\"Finished with: {result}\")"
   ]
  },
  {
   "cell_type": "markdown",
   "metadata": {},
   "source": [
    "### Define Pipeline\n",
    "We have extracted code for training pipeline into a [component](components/training). Python code that defines `training_op` as well as a `http_download_op` can be found [here](components/training/component.py)\n",
    "\n",
    "Below we will define a pipeline that will run the training pipeline as an experimnet. This pipeline will do the following. Every training operation (except download) will be encapsulated by the python script. You can change the scripts at your will however, you will need to rebuild a training image.\n",
    "\n",
    "* Download dataset from http \n",
    "* Split data into sample and test. It can also put a rownum limit into a dataset to increase feedback\n",
    "* Preprocess data for machine learning (clean, tokenize and transform text into vector)\n",
    "* Apply sequence to sequence training with Keras. By the completion trained model will be uplooaded into s3 bucket "
   ]
  },
  {
   "cell_type": "code",
   "execution_count": 346,
   "metadata": {
    "ExecuteTime": {
     "end_time": "2020-03-16T19:09:20.238224Z",
     "start_time": "2020-03-16T19:09:19.304967Z"
    }
   },
   "outputs": [],
   "source": [
    "from components.training import (http_download_op, training_op)\n",
    "\n",
    "@dsl.pipeline(\n",
    "  name='Training',\n",
    "  description=\"\"\"\n",
    "  Download dataset, \n",
    "  Split data set for training and validation, \n",
    "  Clean and preprocess data, \n",
    "  Train the model\n",
    "  \"\"\"\n",
    ")\n",
    "def training_pipeline(\n",
    "    datasetDir: dsl.PipelineParam, \n",
    "    datasetName: dsl.PipelineParam,\n",
    "    labels: dsl.PipelineParam,\n",
    "    remoteMinioServer: dsl.PipelineParam,\n",
    "    accessKey: dsl.PipelineParam,\n",
    "    secretKey: dsl.PipelineParam,\n",
    "    batchSize: dsl.PipelineParam,\n",
    "    width: dsl.PipelineParam,    \n",
    "    height: dsl.PipelineParam,\n",
    "    epochs: dsl.PipelineParam,\n",
    "    dropoutRate: dsl.PipelineParam,\n",
    "    learningRate: dsl.PipelineParam,\n",
    "    trainInput: dsl.PipelineParam,\n",
    "    modelVersion: dsl.PipelineParam,\n",
    "    modelDir: dsl.PipelineParam,\n",
    "    modelFname: dsl.PipelineParam\n",
    "):  \n",
    "\n",
    "    download = training_op(\n",
    "        script='download.py',\n",
    "        arguments=[\n",
    "            '--dataset_dir', datasetDir,\n",
    "            '--dataset_name', datasetName,\n",
    "            '--labels', labels,\n",
    "            '--remote_minio_server', remoteMinioServer,\n",
    "            '--access_key', accessKey,\n",
    "            '--secret_key', secretKey,\n",
    "        ]\n",
    "    ).add_pvolumes({\n",
    "        '/mnt/s3': dsl.PipelineVolume(pvc=BUCKET_PVC)\n",
    "    })\n",
    "\n",
    "    # Training\n",
    "    training = training_op(\n",
    "        script='train.py',\n",
    "        arguments=[\n",
    "            '--batch_size', batchSize,\n",
    "            '--width', width,\n",
    "            '--height', height,\n",
    "            '--epochs', epochs,\n",
    "            '--dropout_rate', dropoutRate,\n",
    "            '--learning_rate', learningRate,\n",
    "            '--dataset_name', datasetName,\n",
    "            '--train_input', trainInput,\n",
    "            '--model_version', modelVersion,\n",
    "            '--model_dir', modelDir,\n",
    "            '--model_fname', modelFname,\n",
    "            '--labels', labels,\n",
    "            '--tempfile', \"True\",\n",
    "        ],\n",
    "        file_outputs={'train': '/tmp/seq2seq.log'},\n",
    "    ).add_pvolumes({\n",
    "        '/mnt/s3': dsl.PipelineVolume(pvc=BUCKET_PVC)\n",
    "    }).after(download)\n",
    "\n",
    "Compiler().compile(training_pipeline, 'argo-distr-training.yaml')\n",
    "utils.patch_pvolumes('argo-distr-training.yaml')"
   ]
  },
  {
   "cell_type": "code",
   "execution_count": 350,
   "metadata": {
    "ExecuteTime": {
     "end_time": "2020-03-16T19:23:17.708027Z",
     "start_time": "2020-03-16T19:23:17.104270Z"
    }
   },
   "outputs": [
    {
     "data": {
      "text/plain": [
       "{'created_at': datetime.datetime(2020, 2, 24, 17, 49, 42, tzinfo=tzlocal()),\n",
       " 'description': None,\n",
       " 'id': 'eeb9cfba-df3a-4687-b8af-a305d0ba43dc',\n",
       " 'name': 'efficientnet1'}"
      ]
     },
     "execution_count": 350,
     "metadata": {},
     "output_type": "execute_result"
    }
   ],
   "source": [
    "exp"
   ]
  },
  {
   "cell_type": "markdown",
   "metadata": {},
   "source": [
    "### Run the pipeline\n",
    "\n",
    "Code below will run a pipeline and inject some pipeline parameters. Here we provide two versions of data sets\n",
    "* `SAMPLE_DATA_SET` - Data set that has just over 2 megabytes. Not enough for sufficient training. However ideal for development, because of faster feedback.\n",
    "* `FULL_DATA_SET` - Precreated data set with all github issues. 3 gigabytes. Good enough for sufficient model\n",
    "\n",
    "Depending on your needs you can choose one or another data set and pass it as a pipeline parameter `data-set`"
   ]
  },
  {
   "cell_type": "code",
   "execution_count": 348,
   "metadata": {
    "ExecuteTime": {
     "end_time": "2020-03-16T19:09:31.900270Z",
     "start_time": "2020-03-16T19:09:31.189344Z"
    }
   },
   "outputs": [
    {
     "data": {
      "text/html": [
       "Run link <a href=\"/pipeline/#/runs/details/aab1db34-67b9-11ea-8129-12a192afa177\" target=\"_blank\" >here</a>"
      ],
      "text/plain": [
       "<IPython.core.display.HTML object>"
      ]
     },
     "metadata": {},
     "output_type": "display_data"
    }
   ],
   "source": [
    "\n",
    "run = client.run_pipeline(exp.id, f'Training model {TAG}: {datetime.now():%m%d-%H%M}', 'argo-distr-training.yaml',\n",
    "                          params={\n",
    "                              'datasetDir': DATASET_DIR,\n",
    "                              'datasetName': DATASET_NAME,\n",
    "                              'labels': LABELS,\n",
    "                              'remoteMinioServer': REMOTE_MINIO_SERVER,\n",
    "                              'accessKey': ACCESS_KEY,\n",
    "                              'secretKey': SECRET_KEY,\n",
    "                              'batchSize': 32,\n",
    "                              'width': 150,\n",
    "                              'height': 150,\n",
    "                              'epochs': 5,\n",
    "                              'dropoutRate': 0.2,\n",
    "                              'learningRate': 0.00002,\n",
    "                              'trainInput': os.path.join(DATASET_DIR, DATASET_NAME),\n",
    "                              'modelVersion': MODEL_VERSION,\n",
    "                              'modelDir': MODEL_DIR,\n",
    "                              'modelFname': MODEL_FNAME,\n",
    "                          })"
   ]
  },
  {
   "cell_type": "code",
   "execution_count": 355,
   "metadata": {
    "ExecuteTime": {
     "end_time": "2020-03-16T19:35:02.461236Z",
     "start_time": "2020-03-16T19:35:01.802515Z"
    }
   },
   "outputs": [
    {
     "data": {
      "text/html": [
       "Run link <a href=\"/pipeline/#/runs/details/3afc0f32-67bd-11ea-8129-12a192afa177\" target=\"_blank\" >here</a>"
      ],
      "text/plain": [
       "<IPython.core.display.HTML object>"
      ]
     },
     "metadata": {},
     "output_type": "display_data"
    }
   ],
   "source": [
    "\n",
    "run = client.run_pipeline(exp.id, f'Training model {TAG}: {datetime.now():%m%d-%H%M}',\n",
    "                          params={\n",
    "                              'datasetDir': DATASET_DIR,\n",
    "                              'datasetName': DATASET_NAME,\n",
    "                              'labels': LABELS,\n",
    "                              'remoteMinioServer': REMOTE_MINIO_SERVER,\n",
    "                              'accessKey': ACCESS_KEY,\n",
    "                              'secretKey': SECRET_KEY,\n",
    "                              'batchSize': 32,\n",
    "                              'width': 150,\n",
    "                              'height': 150,\n",
    "                              'epochs': 5,\n",
    "                              'dropoutRate': 0.2,\n",
    "                              'learningRate': 0.00002,\n",
    "                              'trainInput': os.path.join(DATASET_DIR, DATASET_NAME),\n",
    "                              'modelVersion': MODEL_VERSION,\n",
    "                              'modelDir': MODEL_DIR,\n",
    "                              'modelFname': MODEL_FNAME,\n",
    "                          }, pipeline_id='75fdc7c1-1b49-4a8c-ac96-13b5af4a1364')"
   ]
  },
  {
   "cell_type": "code",
   "execution_count": 356,
   "metadata": {
    "ExecuteTime": {
     "end_time": "2020-03-16T21:38:55.253306Z",
     "start_time": "2020-03-16T21:38:54.646886Z"
    }
   },
   "outputs": [
    {
     "data": {
      "text/plain": [
       "'/mnt/s3/santosh-test/datasets'"
      ]
     },
     "execution_count": 356,
     "metadata": {},
     "output_type": "execute_result"
    }
   ],
   "source": [
    "DATASET_DIR"
   ]
  },
  {
   "cell_type": "code",
   "execution_count": 295,
   "metadata": {
    "ExecuteTime": {
     "end_time": "2020-03-14T05:31:13.446164Z",
     "start_time": "2020-03-14T05:31:12.144299Z"
    }
   },
   "outputs": [],
   "source": [
    "!cp /home/jovyan/workspace/argo-distr-training.yaml /home/jovyan/workspace/components/flaskapp/src"
   ]
  },
  {
   "cell_type": "code",
   "execution_count": 80,
   "metadata": {
    "ExecuteTime": {
     "end_time": "2020-03-11T02:54:54.459040Z",
     "start_time": "2020-03-11T02:49:17.766503Z"
    }
   },
   "outputs": [
    {
     "name": "stdout",
     "output_type": "stream",
     "text": [
      "Waiting for run: e57d1c9c-6342-11ea-a77e-1294c09e5afb...\n",
      "Finished with: Succeeded\n",
      "CPU times: user 385 ms, sys: 0 ns, total: 385 ms\n",
      "Wall time: 5min 36s\n"
     ]
    }
   ],
   "source": [
    "%%time\n",
    "# block until job completion\n",
    "print(f\"Waiting for run: {run.id}...\")\n",
    "result = client.wait_for_run_completion(run.id, timeout=720).run.status\n",
    "print(f\"Finished with: {result}\")"
   ]
  },
  {
   "cell_type": "markdown",
   "metadata": {},
   "source": [
    "## See prediction\n",
    "It is useful to see examples of real predictions on a holdout set to get a sense of the performance of the model. "
   ]
  },
  {
   "cell_type": "markdown",
   "metadata": {
    "ExecuteTime": {
     "end_time": "2020-03-07T23:34:07.112330Z",
     "start_time": "2020-03-07T23:34:07.043135Z"
    }
   },
   "source": [
    "## Test Model"
   ]
  },
  {
   "cell_type": "code",
   "execution_count": 237,
   "metadata": {
    "ExecuteTime": {
     "end_time": "2020-03-14T03:13:11.621161Z",
     "start_time": "2020-03-14T03:13:11.132736Z"
    }
   },
   "outputs": [],
   "source": [
    "import pandas as pd\n",
    "from datetime import datetime\n",
    "import itertools\n",
    "from sklearn.model_selection import train_test_split\n",
    "import tensorflow as tf\n",
    "from skimage.transform import resize\n",
    "from tensorflow.keras.preprocessing.image import ImageDataGenerator\n",
    "from tensorflow.keras import models, layers, optimizers\n",
    "from tensorflow.keras.utils import get_custom_objects\n",
    "from tensorflow.keras.models import load_model\n",
    "from tensorflow.keras.callbacks import TensorBoard\n",
    "\n",
    "# Options: EfficientNetB0, EfficientNetB1, EfficientNetB2, EfficientNetB3\n",
    "# Higher the number, the more complex the model is.\n",
    "from efficientnet import EfficientNetB0 as Net\n",
    "from efficientnet import center_crop_and_resize, preprocess_input\n",
    "from efficientnet.layers import Swish, DropConnect\n",
    "from efficientnet.model import ConvKernalInitializer\n",
    "\n",
    "from matplotlib import image\n",
    "from matplotlib import pyplot\n",
    "from keras.applications.imagenet_utils import decode_predictions"
   ]
  },
  {
   "cell_type": "code",
   "execution_count": 238,
   "metadata": {
    "ExecuteTime": {
     "end_time": "2020-03-14T03:13:14.786298Z",
     "start_time": "2020-03-14T03:13:12.646967Z"
    }
   },
   "outputs": [
    {
     "name": "stdout",
     "output_type": "stream",
     "text": [
      "pneumothorax_03_04_08.h5  pneumothorax_03_07_17.h5  pneumothorax_03_11_14.h5\n",
      "pneumothorax_03_04_40.h5  pneumothorax_03_08_44.h5  pneumothorax_03_13_50.h5\n",
      "pneumothorax_03_06_42.h5  pneumothorax_03_11_00.h5\n",
      "/home/jovyan/data/models/1/pneumothorax_03_11_14.h5\n"
     ]
    }
   ],
   "source": [
    "#NB_MODEL_FILE = f\"/home/jovyan/data/models/{MODEL_VERSION}/{MODEL_FNAME}\"\n",
    "NB_MODEL_FILE = f\"/home/jovyan/data/models/{MODEL_VERSION}/pneumothorax_03_11_14.h5\"\n",
    "!ls /home/jovyan/data/models/1\n",
    "!ls $NB_MODEL_FILE"
   ]
  },
  {
   "cell_type": "code",
   "execution_count": 239,
   "metadata": {
    "ExecuteTime": {
     "end_time": "2020-03-14T03:13:43.391189Z",
     "start_time": "2020-03-14T03:13:42.079095Z"
    }
   },
   "outputs": [
    {
     "name": "stdout",
     "output_type": "stream",
     "text": [
      "/home/jovyan/data/models/v24/pneumothorax_03_08_20.h5\r\n"
     ]
    }
   ],
   "source": [
    "# Use old model file for testing -- REMOVE for model retraining\n",
    "MODEL_FILE = '/mnt/s3/models/v24/pneumothorax_03_08_20.h5'\n",
    "!ls '/home/jovyan/data/models/v24/pneumothorax_03_08_20.h5'"
   ]
  },
  {
   "cell_type": "code",
   "execution_count": 240,
   "metadata": {
    "ExecuteTime": {
     "end_time": "2020-03-14T03:14:01.700495Z",
     "start_time": "2020-03-14T03:13:46.267945Z"
    }
   },
   "outputs": [
    {
     "name": "stdout",
     "output_type": "stream",
     "text": [
      "Loading model file: /home/jovyan/data/models/1/pneumothorax_03_11_14.h5\n"
     ]
    }
   ],
   "source": [
    "#%%pixie_debugger\n",
    "\n",
    "get_custom_objects().update({\n",
    "        'ConvKernalInitializer': ConvKernalInitializer,\n",
    "        'Swish': Swish,\n",
    "        'DropConnect':DropConnect\n",
    "    })\n",
    "\n",
    "print (f\"Loading model file: {NB_MODEL_FILE}\")\n",
    "model = load_model(NB_MODEL_FILE)"
   ]
  },
  {
   "cell_type": "code",
   "execution_count": null,
   "metadata": {
    "ExecuteTime": {
     "end_time": "2020-03-14T03:14:02.261443Z",
     "start_time": "2020-03-14T03:13:47.868Z"
    }
   },
   "outputs": [],
   "source": [
    "# load image as pixel array\n",
    "TEST_IMAGE_DIR = '/home/jovyan/data/test/'\n",
    "test_image = image.imread(TEST_IMAGE_DIR+\"CXR354_IM-1731-3003.png\")\n",
    "# summarize shape of the pixel array print(data.dtype)\n",
    "print(test_image.shape)\n",
    "# display the array of pixels as an image pyplot.imshow(data)\n",
    "pyplot.show()\n",
    "pyplot.imshow(test_image)"
   ]
  },
  {
   "cell_type": "code",
   "execution_count": 241,
   "metadata": {
    "ExecuteTime": {
     "end_time": "2020-03-14T03:14:08.580305Z",
     "start_time": "2020-03-14T03:14:08.042402Z"
    }
   },
   "outputs": [
    {
     "data": {
      "text/plain": [
       "'/home/jovyan/data/test/CXR354_IM-1731-3003.png'"
      ]
     },
     "execution_count": 241,
     "metadata": {},
     "output_type": "execute_result"
    }
   ],
   "source": [
    "TEST_IMAGE_DIR+\"CXR354_IM-1731-3003.png\""
   ]
  },
  {
   "cell_type": "code",
   "execution_count": 242,
   "metadata": {
    "ExecuteTime": {
     "end_time": "2020-03-14T03:14:12.283285Z",
     "start_time": "2020-03-14T03:14:09.545013Z"
    }
   },
   "outputs": [
    {
     "name": "stdout",
     "output_type": "stream",
     "text": [
      "[1.0, 0.0]\n"
     ]
    }
   ],
   "source": [
    "# Do any preprocessing\n",
    "x = resize(test_image, (150, 150)) * 255\n",
    "x = np.expand_dims(x, 0)\n",
    "\n",
    "prediction = model.predict(x)\n",
    "# Do any postprocessing\n",
    "print(prediction.tolist()[0])"
   ]
  },
  {
   "cell_type": "markdown",
   "metadata": {},
   "source": [
    "## Serving with Seldon\n",
    "Prepping a container for serving. \n",
    "\n",
    "Here we define all variables that will be needed for our dockerfile tempalte. \n",
    "\n",
    "- `MODEL_WRAPPER`: is a name of a python class that adapts keras model for serving\n",
    "- `MODEL_NAME`: used in seldon deployment\n",
    "- `MODEL_VERSION`: one model can be served multiple times with different versions simulteniously\n",
    "- `SELDON_DEPLOYMENT`: name of kubernetes resource\n",
    "- `SELDON_OAUTH_KEY`: part of shared secret between `SeldonDeployment` and a client application\n",
    "- `SELDON_OAUTH_SECRET`: part of shared secret between `SeldonDeployment` and a client application\n",
    "- `REPLICAS`: number of replicas for `SeldonDeployment` pod"
   ]
  },
  {
   "cell_type": "code",
   "execution_count": 243,
   "metadata": {
    "ExecuteTime": {
     "end_time": "2020-03-14T03:14:16.589837Z",
     "start_time": "2020-03-14T03:14:16.085389Z"
    }
   },
   "outputs": [],
   "source": [
    "import re\n",
    "\n",
    "MODEL_WRAPPER = 'EfficientNetModel'\n",
    "MODEL_NAME = re.sub(r'\\W+', '-', MODEL_WRAPPER).lower()\n",
    "MODEL_VERSION = TAG\n",
    "SELDON_DEPLOYMENT = f\"{MODEL_NAME}-{MODEL_VERSION}\"\n",
    "# here we hash a information about model, so it would be predictable\n",
    "SELDON_OAUTH_KEY = utils.sha1(MODEL_NAME, MODEL_VERSION, NAMESPACE)\n",
    "# for secure secret we will use hash of user defined shared secret salted with OAUTH_KEY\n",
    "SELDON_OAUTH_SECRET = utils.sha1(SELDON_OAUTH_KEY, get_secret('USER_SECRET_FOR_MODEL'))\n",
    "SELDON_APISERVER_ADDR=f\"seldon-seldon-apiserver.{NAMESPACE}:8080\"\n",
    "\n",
    "SELDON_DEPLOYMENT_REPLICAS = 1"
   ]
  },
  {
   "cell_type": "markdown",
   "metadata": {},
   "source": [
    "### Building a serving image\n",
    "\n",
    "`SeldonDeployment` needs a docker image that contains a model wrapper written in (but not limited) Python\n",
    "\n",
    "This step will build a container and serve it"
   ]
  },
  {
   "cell_type": "code",
   "execution_count": 244,
   "metadata": {
    "ExecuteTime": {
     "end_time": "2020-03-14T03:14:33.947595Z",
     "start_time": "2020-03-14T03:14:33.462476Z"
    }
   },
   "outputs": [
    {
     "data": {
      "text/html": [
       "<a href='components/serving/Dockerfile' target='_blank'>components/serving/Dockerfile</a><br>"
      ],
      "text/plain": [
       "/home/jovyan/.git-sync/rev-d77f05c3d73e00d03ee7deae65c5f5fbcd78b8c4/components/serving/Dockerfile"
      ]
     },
     "metadata": {},
     "output_type": "display_data"
    }
   ],
   "source": [
    "%%template components/serving/Dockerfile\n",
    "FROM seldonio/seldon-core-s2i-python3\n",
    "\n",
    "FROM {{TRAINING_IMAGE}}\n",
    "RUN pip3 install --no-cache-dir -U 'seldon-core' \\\n",
    "    && pip3 install --no-cache-dir -U git+git://github.com/SemanticMD/efficientnet_keras_transfer_learning\n",
    "\n",
    "COPY --from=0 /microservice /microservice\n",
    "COPY src/serving.py /microservice/{{MODEL_WRAPPER}}.py\n",
    "\n",
    "WORKDIR /microservice\n",
    "ENTRYPOINT [\"python\",\"-u\",\"microservice.py\"]\n",
    "CMD [\"{{MODEL_WRAPPER}}\", \"REST\"]"
   ]
  },
  {
   "cell_type": "markdown",
   "metadata": {},
   "source": [
    "To be able to serve trained model we build an image with our serving microservice. To achieve this we reuse our kaniko pipeline defined above"
   ]
  },
  {
   "cell_type": "code",
   "execution_count": 245,
   "metadata": {
    "ExecuteTime": {
     "end_time": "2020-03-14T03:14:36.258495Z",
     "start_time": "2020-03-14T03:14:35.578647Z"
    }
   },
   "outputs": [
    {
     "data": {
      "text/html": [
       "Uploaded <a href=\"https://ml1-minio.app.ml1.demo51.superhub.io/minio/default/v27/buildcontext/\" target=\"_blank\" >\"4 files\"</a>; transferred: 15.31 KB; skipped: 1 file (<a href=\"run_local.py\">run_local.py</a>)"
      ],
      "text/plain": [
       "<IPython.core.display.HTML object>"
      ]
     },
     "metadata": {},
     "output_type": "display_data"
    },
    {
     "data": {
      "text/html": [
       "Run link <a href=\"/pipeline/#/runs/details/ef036cbb-65a1-11ea-af48-128cedd35b9f\" target=\"_blank\" >here</a>"
      ],
      "text/plain": [
       "<IPython.core.display.HTML object>"
      ]
     },
     "metadata": {},
     "output_type": "display_data"
    }
   ],
   "source": [
    "upload_to_s3(\n",
    "    destination=f\"s3://{BUCKET_NAME}/{BUILD_CONTEXT}\",\n",
    "    ignorefile='components/kaniko/ignorefile.txt',\n",
    "    workspace='.',\n",
    "    s3_client=s3,\n",
    ")\n",
    "\n",
    "run = client.run_pipeline(exp.id, f'Build image: serving:{TAG}', 'argo-kaniko.yaml', \n",
    "                          params={\n",
    "                              'image': SERVING_IMAGE,\n",
    "                              'context': f\"{MOUNT_PATH}/{BUILD_CONTEXT}/components/serving\"\n",
    "                          })"
   ]
  },
  {
   "cell_type": "code",
   "execution_count": 92,
   "metadata": {
    "ExecuteTime": {
     "end_time": "2020-03-11T02:59:25.937728Z",
     "start_time": "2020-03-11T02:56:55.172855Z"
    }
   },
   "outputs": [
    {
     "name": "stdout",
     "output_type": "stream",
     "text": [
      "Waiting for run: f14b387a-6343-11ea-a77e-1294c09e5afb...\n",
      "Finished with: Succeeded\n",
      "CPU times: user 289 ms, sys: 0 ns, total: 289 ms\n",
      "Wall time: 2min 30s\n"
     ]
    }
   ],
   "source": [
    "%%time\n",
    "# block until job completion\n",
    "print(f\"Waiting for run: {run.id}...\")\n",
    "result = client.wait_for_run_completion(run.id, timeout=720).run.status\n",
    "print(f\"Finished with: {result}\")"
   ]
  },
  {
   "cell_type": "markdown",
   "metadata": {},
   "source": [
    "### Serve model\n",
    "\n",
    "Then we render our `SeldonDeployment` template and deploy it with `kubectl`, similar as we have done before with `pvc` definition. Here we define reference to the model that will be used for serving"
   ]
  },
  {
   "cell_type": "code",
   "execution_count": 246,
   "metadata": {
    "ExecuteTime": {
     "end_time": "2020-03-14T03:20:06.223292Z",
     "start_time": "2020-03-14T03:20:04.623304Z"
    }
   },
   "outputs": [
    {
     "name": "stdout",
     "output_type": "stream",
     "text": [
      "seldondeployment.machinelearning.seldon.io \"efficientnetmodel-v24\" deleted\r\n"
     ]
    }
   ],
   "source": [
    "!kubectl delete -f seldon.yaml"
   ]
  },
  {
   "cell_type": "code",
   "execution_count": 247,
   "metadata": {
    "ExecuteTime": {
     "end_time": "2020-03-14T03:20:11.077789Z",
     "start_time": "2020-03-14T03:20:08.611902Z"
    }
   },
   "outputs": [
    {
     "data": {
      "text/html": [
       "<a href='seldon.yaml' target='_blank'>seldon.yaml</a><br>"
      ],
      "text/plain": [
       "/home/jovyan/.git-sync/rev-d77f05c3d73e00d03ee7deae65c5f5fbcd78b8c4/seldon.yaml"
      ]
     },
     "metadata": {},
     "output_type": "display_data"
    },
    {
     "name": "stdout",
     "output_type": "stream",
     "text": [
      "seldondeployment.machinelearning.seldon.io/efficientnetmodel-v27 created\n",
      "Creating"
     ]
    }
   ],
   "source": [
    "%templatefile components/serving/templates/seldon.yaml -o seldon.yaml\n",
    "!kubectl apply -f seldon.yaml --wait\n",
    "!kubectl get -f seldon.yaml -o jsonpath='{.status.state}'"
   ]
  },
  {
   "cell_type": "markdown",
   "metadata": {},
   "source": [
    "### Validate\n",
    "\n",
    "It can take few minutes while a seldon applicaiton will be deployed. Once it will be deployed. Then we can send a test prediction\n",
    "\n",
    "Test model serving by accessing seldon api server. Because Seldon API server provides an oauth, we need to receive a temporrary bearer token. We can receive this token by providing oauth key and secret that has been used in our `SeldonDeployment`"
   ]
  },
  {
   "cell_type": "code",
   "execution_count": 248,
   "metadata": {
    "ExecuteTime": {
     "end_time": "2020-03-14T03:20:39.997891Z",
     "start_time": "2020-03-14T03:20:39.318078Z"
    }
   },
   "outputs": [
    {
     "name": "stdout",
     "output_type": "stream",
     "text": [
      "{'data': {'file_name': '/mnt/s3/test/CXR354_IM-1731-3003.png'}}\n"
     ]
    }
   ],
   "source": [
    "\n",
    "test_payload = '/mnt/s3/test/' + \"CXR354_IM-1731-3003.png\"\n",
    "\n",
    "test_payload_json = {\n",
    "    \"data\":{\"file_name\": f\"{test_payload}\" },\n",
    "}\n",
    "\n",
    "\n",
    "print (test_payload_json)"
   ]
  },
  {
   "cell_type": "code",
   "execution_count": 249,
   "metadata": {
    "ExecuteTime": {
     "end_time": "2020-03-14T03:20:51.855020Z",
     "start_time": "2020-03-14T03:20:51.211755Z"
    }
   },
   "outputs": [
    {
     "data": {
      "text/plain": [
       "'seldon-seldon-apiserver.kubeflow:8080'"
      ]
     },
     "execution_count": 249,
     "metadata": {},
     "output_type": "execute_result"
    }
   ],
   "source": [
    "SELDON_APISERVER_ADDR"
   ]
  },
  {
   "cell_type": "code",
   "execution_count": 250,
   "metadata": {
    "ExecuteTime": {
     "end_time": "2020-03-14T03:21:21.450265Z",
     "start_time": "2020-03-14T03:21:05.785221Z"
    },
    "code_folding": [],
    "pixiedust": {
     "displayParams": {}
    }
   },
   "outputs": [
    {
     "name": "stdout",
     "output_type": "stream",
     "text": [
      "Error connecting to seldon core. This may happen when Seldon has not been up and running yet. Try again later\n",
      "{'code': 103, 'info': 'org.apache.http.conn.ConnectTimeoutException: Connect to efficientnetmodel.kubeflow:8000 [efficientnetmodel.kubeflow/10.3.151.41] failed: connect timed out', 'reason': 'Microservice error', 'status': 'FAILURE'}\n"
     ]
    }
   ],
   "source": [
    "#%%pixie_debugger\n",
    "from IPython.display import Code\n",
    "import nbextensions.seldon as seldon\n",
    "                         \n",
    "t = seldon.get_token(\n",
    "    server=SELDON_APISERVER_ADDR,\n",
    "    oauth_key=SELDON_OAUTH_KEY,\n",
    "    oauth_secret=SELDON_OAUTH_SECRET,\n",
    ")\n",
    "result = seldon.prediction(\n",
    "    server=SELDON_APISERVER_ADDR,\n",
    "    payload=test_payload_json,\n",
    "    token=t,\n",
    ")\n",
    "if result.get('status') == 'FAILURE':\n",
    "    print(\"Error connecting to seldon core.\", \n",
    "          \"This may happen when Seldon has not been up and running yet.\",\n",
    "          \"Try again later\")\n",
    "    print (result)\n",
    "else:\n",
    "    display(\n",
    "        prediction\n",
    "      )\n"
   ]
  },
  {
   "cell_type": "markdown",
   "metadata": {},
   "source": [
    "## Deploy a client application\n",
    "\n",
    "This section will be focused on application deployment routines.\n",
    "- `FLASK_APP`: name of the kubernetes deployment associated with the applicaiton\n",
    "- `FLASK_REPLICAS`: number of replicas for application deployment pod\n",
    "- `GITHUB_TOKEN`: Github Token to access Github API. This will help application to fetch a random github issue"
   ]
  },
  {
   "cell_type": "code",
   "execution_count": null,
   "metadata": {
    "ExecuteTime": {
     "start_time": "2020-03-14T22:51:14.893Z"
    }
   },
   "outputs": [],
   "source": [
    "FLASK_APP=APPLICATION_NAME\n",
    "FLASK_REPLICAS = 1\n",
    "GITHUB_TOKEN=get_secret('github_token')"
   ]
  },
  {
   "cell_type": "markdown",
   "metadata": {},
   "source": [
    "### Building an application container\n",
    "\n",
    "User application has been implemented inside [app.py](components/flaskapp/src/app.py). We bake this applicaiton inside of docker container and deploy it further"
   ]
  },
  {
   "cell_type": "code",
   "execution_count": 335,
   "metadata": {
    "ExecuteTime": {
     "end_time": "2020-03-14T18:15:34.365486Z",
     "start_time": "2020-03-14T18:15:33.799263Z"
    }
   },
   "outputs": [
    {
     "data": {
      "text/html": [
       "<a href='components/flaskapp/Dockerfile' target='_blank'>components/flaskapp/Dockerfile</a><br>"
      ],
      "text/plain": [
       "/home/jovyan/.git-sync/rev-d77f05c3d73e00d03ee7deae65c5f5fbcd78b8c4/components/flaskapp/Dockerfile"
      ]
     },
     "metadata": {},
     "output_type": "display_data"
    },
    {
     "data": {
      "text/html": [
       "<style>.output_html .hll { background-color: #ffffcc }\n",
       ".output_html  { background: #f8f8f8; }\n",
       ".output_html .c { color: #408080; font-style: italic } /* Comment */\n",
       ".output_html .err { border: 1px solid #FF0000 } /* Error */\n",
       ".output_html .k { color: #008000; font-weight: bold } /* Keyword */\n",
       ".output_html .o { color: #666666 } /* Operator */\n",
       ".output_html .ch { color: #408080; font-style: italic } /* Comment.Hashbang */\n",
       ".output_html .cm { color: #408080; font-style: italic } /* Comment.Multiline */\n",
       ".output_html .cp { color: #BC7A00 } /* Comment.Preproc */\n",
       ".output_html .cpf { color: #408080; font-style: italic } /* Comment.PreprocFile */\n",
       ".output_html .c1 { color: #408080; font-style: italic } /* Comment.Single */\n",
       ".output_html .cs { color: #408080; font-style: italic } /* Comment.Special */\n",
       ".output_html .gd { color: #A00000 } /* Generic.Deleted */\n",
       ".output_html .ge { font-style: italic } /* Generic.Emph */\n",
       ".output_html .gr { color: #FF0000 } /* Generic.Error */\n",
       ".output_html .gh { color: #000080; font-weight: bold } /* Generic.Heading */\n",
       ".output_html .gi { color: #00A000 } /* Generic.Inserted */\n",
       ".output_html .go { color: #888888 } /* Generic.Output */\n",
       ".output_html .gp { color: #000080; font-weight: bold } /* Generic.Prompt */\n",
       ".output_html .gs { font-weight: bold } /* Generic.Strong */\n",
       ".output_html .gu { color: #800080; font-weight: bold } /* Generic.Subheading */\n",
       ".output_html .gt { color: #0044DD } /* Generic.Traceback */\n",
       ".output_html .kc { color: #008000; font-weight: bold } /* Keyword.Constant */\n",
       ".output_html .kd { color: #008000; font-weight: bold } /* Keyword.Declaration */\n",
       ".output_html .kn { color: #008000; font-weight: bold } /* Keyword.Namespace */\n",
       ".output_html .kp { color: #008000 } /* Keyword.Pseudo */\n",
       ".output_html .kr { color: #008000; font-weight: bold } /* Keyword.Reserved */\n",
       ".output_html .kt { color: #B00040 } /* Keyword.Type */\n",
       ".output_html .m { color: #666666 } /* Literal.Number */\n",
       ".output_html .s { color: #BA2121 } /* Literal.String */\n",
       ".output_html .na { color: #7D9029 } /* Name.Attribute */\n",
       ".output_html .nb { color: #008000 } /* Name.Builtin */\n",
       ".output_html .nc { color: #0000FF; font-weight: bold } /* Name.Class */\n",
       ".output_html .no { color: #880000 } /* Name.Constant */\n",
       ".output_html .nd { color: #AA22FF } /* Name.Decorator */\n",
       ".output_html .ni { color: #999999; font-weight: bold } /* Name.Entity */\n",
       ".output_html .ne { color: #D2413A; font-weight: bold } /* Name.Exception */\n",
       ".output_html .nf { color: #0000FF } /* Name.Function */\n",
       ".output_html .nl { color: #A0A000 } /* Name.Label */\n",
       ".output_html .nn { color: #0000FF; font-weight: bold } /* Name.Namespace */\n",
       ".output_html .nt { color: #008000; font-weight: bold } /* Name.Tag */\n",
       ".output_html .nv { color: #19177C } /* Name.Variable */\n",
       ".output_html .ow { color: #AA22FF; font-weight: bold } /* Operator.Word */\n",
       ".output_html .w { color: #bbbbbb } /* Text.Whitespace */\n",
       ".output_html .mb { color: #666666 } /* Literal.Number.Bin */\n",
       ".output_html .mf { color: #666666 } /* Literal.Number.Float */\n",
       ".output_html .mh { color: #666666 } /* Literal.Number.Hex */\n",
       ".output_html .mi { color: #666666 } /* Literal.Number.Integer */\n",
       ".output_html .mo { color: #666666 } /* Literal.Number.Oct */\n",
       ".output_html .sa { color: #BA2121 } /* Literal.String.Affix */\n",
       ".output_html .sb { color: #BA2121 } /* Literal.String.Backtick */\n",
       ".output_html .sc { color: #BA2121 } /* Literal.String.Char */\n",
       ".output_html .dl { color: #BA2121 } /* Literal.String.Delimiter */\n",
       ".output_html .sd { color: #BA2121; font-style: italic } /* Literal.String.Doc */\n",
       ".output_html .s2 { color: #BA2121 } /* Literal.String.Double */\n",
       ".output_html .se { color: #BB6622; font-weight: bold } /* Literal.String.Escape */\n",
       ".output_html .sh { color: #BA2121 } /* Literal.String.Heredoc */\n",
       ".output_html .si { color: #BB6688; font-weight: bold } /* Literal.String.Interpol */\n",
       ".output_html .sx { color: #008000 } /* Literal.String.Other */\n",
       ".output_html .sr { color: #BB6688 } /* Literal.String.Regex */\n",
       ".output_html .s1 { color: #BA2121 } /* Literal.String.Single */\n",
       ".output_html .ss { color: #19177C } /* Literal.String.Symbol */\n",
       ".output_html .bp { color: #008000 } /* Name.Builtin.Pseudo */\n",
       ".output_html .fm { color: #0000FF } /* Name.Function.Magic */\n",
       ".output_html .vc { color: #19177C } /* Name.Variable.Class */\n",
       ".output_html .vg { color: #19177C } /* Name.Variable.Global */\n",
       ".output_html .vi { color: #19177C } /* Name.Variable.Instance */\n",
       ".output_html .vm { color: #19177C } /* Name.Variable.Magic */\n",
       ".output_html .il { color: #666666 } /* Literal.Number.Integer.Long */</style><div class=\"highlight\"><pre><span></span>FROM ml1-harbor.svc.ml1.demo51.superhub.io/library/training:v31\n",
       "RUN pip3 install --no-cache-dir -U &#39;flask&gt;=0.12.3&#39; \\\n",
       "    &amp;&amp; pip3 install --no-cache-dir -U &#39;kfp==0.1.23&#39; \\\n",
       "    &amp;&amp; pip3 install --no-cache-dir -U &#39;boto3&gt;=1.0&#39;\n",
       "COPY src/ /app\n",
       "WORKDIR /app\n",
       "ENTRYPOINT [&quot;python&quot;,&quot;-u&quot;,&quot;app.py&quot;]\n",
       "</pre></div>\n"
      ],
      "text/latex": [
       "\\begin{Verbatim}[commandchars=\\\\\\{\\}]\n",
       "FROM ml1\\PYZhy{}harbor.svc.ml1.demo51.superhub.io/library/training:v31\n",
       "RUN pip3 install \\PYZhy{}\\PYZhy{}no\\PYZhy{}cache\\PYZhy{}dir \\PYZhy{}U \\PYZsq{}flask\\PYZgt{}=0.12.3\\PYZsq{} \\PYZbs{}\n",
       "    \\PYZam{}\\PYZam{} pip3 install \\PYZhy{}\\PYZhy{}no\\PYZhy{}cache\\PYZhy{}dir \\PYZhy{}U \\PYZsq{}kfp==0.1.23\\PYZsq{} \\PYZbs{}\n",
       "    \\PYZam{}\\PYZam{} pip3 install \\PYZhy{}\\PYZhy{}no\\PYZhy{}cache\\PYZhy{}dir \\PYZhy{}U \\PYZsq{}boto3\\PYZgt{}=1.0\\PYZsq{}\n",
       "COPY src/ /app\n",
       "WORKDIR /app\n",
       "ENTRYPOINT [\\PYZdq{}python\\PYZdq{},\\PYZdq{}\\PYZhy{}u\\PYZdq{},\\PYZdq{}app.py\\PYZdq{}]\n",
       "\\end{Verbatim}\n"
      ],
      "text/plain": [
       "FROM ml1-harbor.svc.ml1.demo51.superhub.io/library/training:v31\n",
       "RUN pip3 install --no-cache-dir -U 'flask>=0.12.3' \\\n",
       "    && pip3 install --no-cache-dir -U 'kfp==0.1.23' \\\n",
       "    && pip3 install --no-cache-dir -U 'boto3>=1.0'\n",
       "COPY src/ /app\n",
       "WORKDIR /app\n",
       "ENTRYPOINT [\"python\",\"-u\",\"app.py\"]"
      ]
     },
     "metadata": {},
     "output_type": "display_data"
    }
   ],
   "source": [
    "%%template components/flaskapp/Dockerfile -v\n",
    "FROM {{TRAINING_IMAGE}}\n",
    "RUN pip3 install --no-cache-dir -U 'flask>=0.12.3' \\\n",
    "    && pip3 install --no-cache-dir -U 'kfp==0.1.23' \\\n",
    "    && pip3 install --no-cache-dir -U 'boto3>=1.0'\n",
    "COPY src/ /app\n",
    "WORKDIR /app\n",
    "ENTRYPOINT [\"python\",\"-u\",\"app.py\"]"
   ]
  },
  {
   "cell_type": "code",
   "execution_count": 336,
   "metadata": {
    "ExecuteTime": {
     "end_time": "2020-03-14T18:15:36.106769Z",
     "start_time": "2020-03-14T18:15:35.471165Z"
    }
   },
   "outputs": [
    {
     "data": {
      "text/html": [
       "Uploaded <a href=\"https://ml1-minio.app.ml1.demo51.superhub.io/minio/default/v31/buildcontext/\" target=\"_blank\" >\"1 file\"</a>; transferred: 285 B; skipped: 1 file (<a href=\"run_local.py\">run_local.py</a>)"
      ],
      "text/plain": [
       "<IPython.core.display.HTML object>"
      ]
     },
     "metadata": {},
     "output_type": "display_data"
    },
    {
     "data": {
      "text/html": [
       "Run link <a href=\"/pipeline/#/runs/details/cd324736-661f-11ea-af48-128cedd35b9f\" target=\"_blank\" >here</a>"
      ],
      "text/plain": [
       "<IPython.core.display.HTML object>"
      ]
     },
     "metadata": {},
     "output_type": "display_data"
    }
   ],
   "source": [
    "upload_to_s3(\n",
    "    destination=f\"s3://{BUCKET_NAME}/{BUILD_CONTEXT}\",\n",
    "    ignorefile='components/kaniko/ignorefile.txt',\n",
    "    workspace='.',\n",
    "    s3_client=s3,\n",
    ")\n",
    "\n",
    "run = client.run_pipeline(\n",
    "    exp.id, f'Build image: application:{TAG}', 'argo-kaniko.yaml', \n",
    "    params={\n",
    "      'image': FLASK_APP_IMAGE,\n",
    "      'context': f\"{MOUNT_PATH}/{BUILD_CONTEXT}/components/flaskapp\"\n",
    "    }\n",
    ")"
   ]
  },
  {
   "cell_type": "code",
   "execution_count": 337,
   "metadata": {
    "ExecuteTime": {
     "end_time": "2020-03-14T18:17:58.368305Z",
     "start_time": "2020-03-14T18:15:37.215417Z"
    }
   },
   "outputs": [
    {
     "name": "stdout",
     "output_type": "stream",
     "text": [
      "Waiting for run: cd324736-661f-11ea-af48-128cedd35b9f...\n",
      "Finished with: Succeeded\n",
      "CPU times: user 182 ms, sys: 42.3 ms, total: 224 ms\n",
      "Wall time: 2min 20s\n"
     ]
    }
   ],
   "source": [
    "%%time\n",
    "# block until job completion\n",
    "print(f\"Waiting for run: {run.id}...\")\n",
    "result = client.wait_for_run_completion(run.id, timeout=720).run.status\n",
    "print(f\"Finished with: {result}\")"
   ]
  },
  {
   "cell_type": "markdown",
   "metadata": {},
   "source": [
    "### Deploy a web application\n",
    "\n",
    "Client web application is a simple Python [flask](http://flask.pocoo.org) application. Deployment manifest can be defined via kubernetes deployment template file [link](components/flaskapp/templates/application.yaml). We render this template with current notebook global variables and then use `kubectl` to deploy.\n",
    "\n",
    "For web access application deployment will use an Ambassador http router, which is part of Kubeflow stack"
   ]
  },
  {
   "cell_type": "code",
   "execution_count": 338,
   "metadata": {
    "ExecuteTime": {
     "end_time": "2020-03-14T18:18:43.307556Z",
     "start_time": "2020-03-14T18:18:41.618823Z"
    }
   },
   "outputs": [
    {
     "name": "stdout",
     "output_type": "stream",
     "text": [
      "service \"efficientnet1-flask\" deleted\r\n",
      "deployment.extensions \"efficientnet1-flask\" deleted\r\n"
     ]
    }
   ],
   "source": [
    "!kubectl delete -f application.yaml"
   ]
  },
  {
   "cell_type": "code",
   "execution_count": 339,
   "metadata": {
    "ExecuteTime": {
     "end_time": "2020-03-14T18:18:52.486514Z",
     "start_time": "2020-03-14T18:18:50.360923Z"
    },
    "pixiedust": {
     "displayParams": {}
    }
   },
   "outputs": [],
   "source": [
    "%templatefile components/flaskapp/templates/application.yaml -o application.yaml\n",
    "!kubectl apply -f application.yaml --wait\n",
    "\n",
    "from IPython.display import Markdown, HTML\n",
    "display(HTML(f'Application can be accessible <a href=\"/{FLASK_APP}/\" target=\"_blank\">here</a>'))"
   ]
  },
  {
   "cell_type": "code",
   "execution_count": 127,
   "metadata": {
    "ExecuteTime": {
     "end_time": "2020-03-11T17:01:13.359923Z",
     "start_time": "2020-03-11T17:01:13.088788Z"
    }
   },
   "outputs": [],
   "source": [
    "# application available here: https://kubeflow.svc.ml1.demo51.superhub.io/efficientnet1/"
   ]
  },
  {
   "cell_type": "markdown",
   "metadata": {},
   "source": [
    "## Tear down\n",
    "\n",
    "Uppon completion, let's tear everything down"
   ]
  },
  {
   "cell_type": "code",
   "execution_count": null,
   "metadata": {},
   "outputs": [],
   "source": [
    "# !kubectl delete -f seldon.yaml\n",
    "!kubectl delete -f application.yaml"
   ]
  }
 ],
 "metadata": {
  "kernelspec": {
   "display_name": "Python 3",
   "language": "python",
   "name": "python3"
  },
  "language_info": {
   "codemirror_mode": {
    "name": "ipython",
    "version": 3
   },
   "file_extension": ".py",
   "mimetype": "text/x-python",
   "name": "python",
   "nbconvert_exporter": "python",
   "pygments_lexer": "ipython3",
   "version": "3.6.7"
  },
  "toc": {
   "base_numbering": 1,
   "nav_menu": {},
   "number_sections": true,
   "sideBar": true,
   "skip_h1_title": true,
   "title_cell": "Table of Contents",
   "title_sidebar": "Contents",
   "toc_cell": false,
   "toc_position": {
    "height": "calc(100% - 180px)",
    "left": "10px",
    "top": "150px",
    "width": "336px"
   },
   "toc_section_display": true,
   "toc_window_display": true
  },
  "varInspector": {
   "cols": {
    "lenName": 16,
    "lenType": 16,
    "lenVar": 40
   },
   "kernels_config": {
    "python": {
     "delete_cmd_postfix": "",
     "delete_cmd_prefix": "del ",
     "library": "var_list.py",
     "varRefreshCmd": "print(var_dic_list())"
    },
    "r": {
     "delete_cmd_postfix": ") ",
     "delete_cmd_prefix": "rm(",
     "library": "var_list.r",
     "varRefreshCmd": "cat(var_dic_list()) "
    }
   },
   "oldHeight": 201,
   "position": {
    "height": "223px",
    "left": "1208px",
    "right": "20px",
    "top": "262px",
    "width": "400px"
   },
   "types_to_exclude": [
    "module",
    "function",
    "builtin_function_or_method",
    "instance",
    "_Feature"
   ],
   "varInspector_section_display": "block",
   "window_display": false
  }
 },
 "nbformat": 4,
 "nbformat_minor": 2
}
