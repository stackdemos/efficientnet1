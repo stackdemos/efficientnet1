{
 "cells": [
  {
   "cell_type": "markdown",
   "metadata": {},
   "source": [
    "# EfficientNet Distributed Training with Existing Experiment"
   ]
  },
  {
   "cell_type": "markdown",
   "metadata": {},
   "source": [
    "## Enviroinment Setup\n",
    "\n",
    "Before any experiment can be conducted. We need to setup and initialize an environment: ensure all Python modules has been setup and configured, as well as python modules\n",
    "\n",
    "### Imports\n",
    "Setting up python modules"
   ]
  },
  {
   "cell_type": "code",
   "execution_count": 28,
   "metadata": {
    "ExecuteTime": {
     "end_time": "2020-03-07T06:33:28.360299Z",
     "start_time": "2020-03-07T06:33:28.355736Z"
    }
   },
   "outputs": [],
   "source": [
    "import os\n",
    "from datetime import datetime\n",
    "import kfp\n",
    "from ipython_secrets import get_secret"
   ]
  },
  {
   "cell_type": "code",
   "execution_count": 29,
   "metadata": {
    "ExecuteTime": {
     "end_time": "2020-03-07T06:33:31.753199Z",
     "start_time": "2020-03-07T06:33:31.738514Z"
    }
   },
   "outputs": [],
   "source": [
    "client = kfp.Client()\n",
    "APPLICATION_NAME = 'efficientnet1'\n",
    "try:\n",
    "    exp = client.get_experiment(experiment_name=APPLICATION_NAME)\n",
    "except:\n",
    "    print(APPLICATION_NAME + ' is not available!')"
   ]
  },
  {
   "cell_type": "markdown",
   "metadata": {},
   "source": [
    "### Define variables for experiment\n",
    "In the beginning of the scrip we define all necessary variables. We have a single cell to define all experiment configuration in one place."
   ]
  },
  {
   "cell_type": "code",
   "execution_count": 19,
   "metadata": {
    "ExecuteTime": {
     "end_time": "2020-03-06T23:06:31.819657Z",
     "start_time": "2020-03-06T23:06:20.887239Z"
    }
   },
   "outputs": [],
   "source": [
    "## Globals\n",
    "REMOTE_MINIO_SERVER = get_secret('REMOTE_MINIO_SERVER')\n",
    "ACCESS_KEY = get_secret('ACCESS_KEY')\n",
    "SECRET_KEY = get_secret('SECRET_KEY')"
   ]
  },
  {
   "cell_type": "code",
   "execution_count": 23,
   "metadata": {
    "ExecuteTime": {
     "end_time": "2020-03-06T23:10:54.763926Z",
     "start_time": "2020-03-06T23:10:54.759421Z"
    }
   },
   "outputs": [],
   "source": [
    "ARTIFACTS_ROOT = '/mnt/s3/'\n",
    "BASEDIR = os.path.join(ARTIFACTS_ROOT,\"santosh-test\")\n",
    "DATASET_DIR = os.path.join(BASEDIR, 'datasets')\n",
    "MODEL_DIR = os.path.join(ARTIFACTS_ROOT, 'models')"
   ]
  },
  {
   "cell_type": "code",
   "execution_count": 24,
   "metadata": {
    "ExecuteTime": {
     "end_time": "2020-03-06T23:10:57.126697Z",
     "start_time": "2020-03-06T23:10:57.122978Z"
    }
   },
   "outputs": [],
   "source": [
    "## Experiment-specific params\n",
    "TAG = 'v25'\n",
    "MODEL_VERSION='1'\n",
    "MODEL_FNAME='pneumothorax_'  + datetime.now().strftime(\"%m_%d_%S\") + '.h5'\n",
    "DATASET_NAME='normal_pneumothorax'\n",
    "LABELS='normal,pneumothorax'"
   ]
  },
  {
   "cell_type": "markdown",
   "metadata": {},
   "source": [
    "### Run the pipeline\n",
    "\n",
    "Code below will run a pipeline and inject some pipeline parameters. "
   ]
  },
  {
   "cell_type": "code",
   "execution_count": 25,
   "metadata": {
    "ExecuteTime": {
     "end_time": "2020-03-06T23:11:28.695316Z",
     "start_time": "2020-03-06T23:11:28.628977Z"
    }
   },
   "outputs": [
    {
     "data": {
      "text/html": [
       "Run link <a href=\"/pipeline/#/runs/details/cf417e92-5fff-11ea-9586-122862a16a39\" target=\"_blank\" >here</a>"
      ],
      "text/plain": [
       "<IPython.core.display.HTML object>"
      ]
     },
     "metadata": {},
     "output_type": "display_data"
    }
   ],
   "source": [
    "\n",
    "run = client.run_pipeline(exp.id, f'Training model {TAG}: {datetime.now():%m%d-%H%M}', 'argo-distr-training.yaml',\n",
    "                          params={\n",
    "                              'datasetDir': DATASET_DIR,\n",
    "                              'datasetName': DATASET_NAME,\n",
    "                              'labels': LABELS,\n",
    "                              'remoteMinioServer': REMOTE_MINIO_SERVER,\n",
    "                              'accessKey': ACCESS_KEY,\n",
    "                              'secretKey': SECRET_KEY,\n",
    "                              'batchSize': 32,\n",
    "                              'width': 150,\n",
    "                              'height': 150,\n",
    "                              'epochs': 1,\n",
    "                              'dropoutRate': 0.2,\n",
    "                              'learningRate': 0.00002,\n",
    "                              'trainInput': os.path.join(DATASET_DIR, DATASET_NAME),\n",
    "                              'modelVersion': MODEL_VERSION,\n",
    "                              'modelDir': MODEL_DIR,\n",
    "                              'modelFname': MODEL_FNAME,\n",
    "                          })"
   ]
  },
  {
   "cell_type": "code",
   "execution_count": 26,
   "metadata": {
    "ExecuteTime": {
     "end_time": "2020-03-06T23:12:40.540042Z",
     "start_time": "2020-03-06T23:11:30.317293Z"
    }
   },
   "outputs": [
    {
     "name": "stdout",
     "output_type": "stream",
     "text": [
      "Waiting for run: cf417e92-5fff-11ea-9586-122862a16a39...\n",
      "Finished with: Succeeded\n",
      "CPU times: user 33.2 ms, sys: 2.26 ms, total: 35.4 ms\n",
      "Wall time: 1min 10s\n"
     ]
    }
   ],
   "source": [
    "%%time\n",
    "# block until job completion\n",
    "print(f\"Waiting for run: {run.id}...\")\n",
    "result = client.wait_for_run_completion(run.id, timeout=720).run.status\n",
    "print(f\"Finished with: {result}\")"
   ]
  },
  {
   "cell_type": "code",
   "execution_count": 396,
   "metadata": {},
   "outputs": [
    {
     "name": "stdout",
     "output_type": "stream",
     "text": [
      "/home/jovyan/data/models/1/pneumothorax_03_04_40.h5\r\n"
     ]
    }
   ],
   "source": [
    "NB_MODEL_FILE = f\"/home/jovyan/data/models/{MODEL_VERSION}/{MODEL_FNAME}\"\n",
    "!ls $NB_MODEL_FILE"
   ]
  }
 ],
 "metadata": {
  "kernelspec": {
   "display_name": "Python 3",
   "language": "python",
   "name": "python3"
  },
  "language_info": {
   "codemirror_mode": {
    "name": "ipython",
    "version": 3
   },
   "file_extension": ".py",
   "mimetype": "text/x-python",
   "name": "python",
   "nbconvert_exporter": "python",
   "pygments_lexer": "ipython3",
   "version": "3.6.7"
  },
  "toc": {
   "base_numbering": 1,
   "nav_menu": {},
   "number_sections": true,
   "sideBar": true,
   "skip_h1_title": true,
   "title_cell": "Table of Contents",
   "title_sidebar": "Contents",
   "toc_cell": false,
   "toc_position": {
    "height": "calc(100% - 180px)",
    "left": "10px",
    "top": "150px",
    "width": "336px"
   },
   "toc_section_display": true,
   "toc_window_display": true
  },
  "varInspector": {
   "cols": {
    "lenName": 16,
    "lenType": 16,
    "lenVar": 40
   },
   "kernels_config": {
    "python": {
     "delete_cmd_postfix": "",
     "delete_cmd_prefix": "del ",
     "library": "var_list.py",
     "varRefreshCmd": "print(var_dic_list())"
    },
    "r": {
     "delete_cmd_postfix": ") ",
     "delete_cmd_prefix": "rm(",
     "library": "var_list.r",
     "varRefreshCmd": "cat(var_dic_list()) "
    }
   },
   "oldHeight": 201,
   "position": {
    "height": "223px",
    "left": "1208px",
    "right": "20px",
    "top": "263px",
    "width": "400px"
   },
   "types_to_exclude": [
    "module",
    "function",
    "builtin_function_or_method",
    "instance",
    "_Feature"
   ],
   "varInspector_section_display": "block",
   "window_display": false
  }
 },
 "nbformat": 4,
 "nbformat_minor": 2
}
